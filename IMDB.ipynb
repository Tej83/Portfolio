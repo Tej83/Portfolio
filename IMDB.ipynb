{
 "cells": [
  {
   "cell_type": "markdown",
   "metadata": {},
   "source": [
    "### Cleaning the messy IMDb Dataset found on Kaggle\n",
    "https://www.kaggle.com/datasets/davidfuenteherraiz/messy-imdb-dataset"
   ]
  },
  {
   "cell_type": "markdown",
   "metadata": {},
   "source": [
    "Welcome to my very first data cleaning project. This was the first time working completely on my own, looking up errors and fixing them without the guidance of a Youtube video or any other tutorial.\n",
    "\n",
    "This dataset contains 100 movies from the IMDb database with various errors, which I will be correcting."
   ]
  },
  {
   "cell_type": "code",
   "execution_count": 1,
   "metadata": {},
   "outputs": [
    {
     "data": {
      "text/html": [
       "<div>\n",
       "<style scoped>\n",
       "    .dataframe tbody tr th:only-of-type {\n",
       "        vertical-align: middle;\n",
       "    }\n",
       "\n",
       "    .dataframe tbody tr th {\n",
       "        vertical-align: top;\n",
       "    }\n",
       "\n",
       "    .dataframe thead th {\n",
       "        text-align: right;\n",
       "    }\n",
       "</style>\n",
       "<table border=\"1\" class=\"dataframe\">\n",
       "  <thead>\n",
       "    <tr style=\"text-align: right;\">\n",
       "      <th></th>\n",
       "      <th>IMBD title ID</th>\n",
       "      <th>Original titlÊ</th>\n",
       "      <th>Release year</th>\n",
       "      <th>Genrë¨</th>\n",
       "      <th>Duration</th>\n",
       "      <th>Country</th>\n",
       "      <th>Content Rating</th>\n",
       "      <th>Director</th>\n",
       "      <th>Unnamed: 8</th>\n",
       "      <th>Income</th>\n",
       "      <th>Votes</th>\n",
       "      <th>Score</th>\n",
       "    </tr>\n",
       "  </thead>\n",
       "  <tbody>\n",
       "    <tr>\n",
       "      <th>0</th>\n",
       "      <td>tt0111161</td>\n",
       "      <td>The Shawshank Redemption</td>\n",
       "      <td>1995-02-10</td>\n",
       "      <td>Drama</td>\n",
       "      <td>142</td>\n",
       "      <td>USA</td>\n",
       "      <td>R</td>\n",
       "      <td>Frank Darabont</td>\n",
       "      <td>NaN</td>\n",
       "      <td>$ 28815245</td>\n",
       "      <td>2.278.845</td>\n",
       "      <td>9.3</td>\n",
       "    </tr>\n",
       "    <tr>\n",
       "      <th>1</th>\n",
       "      <td>tt0068646</td>\n",
       "      <td>The Godfather</td>\n",
       "      <td>09 21 1972</td>\n",
       "      <td>Crime, Drama</td>\n",
       "      <td>175</td>\n",
       "      <td>USA</td>\n",
       "      <td>R</td>\n",
       "      <td>Francis Ford Coppola</td>\n",
       "      <td>NaN</td>\n",
       "      <td>$ 246120974</td>\n",
       "      <td>1.572.674</td>\n",
       "      <td>9.2</td>\n",
       "    </tr>\n",
       "    <tr>\n",
       "      <th>2</th>\n",
       "      <td>tt0468569</td>\n",
       "      <td>The Dark Knight</td>\n",
       "      <td>23 -07-2008</td>\n",
       "      <td>Action, Crime, Drama</td>\n",
       "      <td>152</td>\n",
       "      <td>US</td>\n",
       "      <td>PG-13</td>\n",
       "      <td>Christopher Nolan</td>\n",
       "      <td>NaN</td>\n",
       "      <td>$ 1005455211</td>\n",
       "      <td>2.241.615</td>\n",
       "      <td>9.</td>\n",
       "    </tr>\n",
       "    <tr>\n",
       "      <th>3</th>\n",
       "      <td>tt0071562</td>\n",
       "      <td>The Godfather: Part II</td>\n",
       "      <td>1975-09-25</td>\n",
       "      <td>Crime, Drama</td>\n",
       "      <td>220</td>\n",
       "      <td>USA</td>\n",
       "      <td>R</td>\n",
       "      <td>Francis Ford Coppola</td>\n",
       "      <td>NaN</td>\n",
       "      <td>$ 4o8,035,783</td>\n",
       "      <td>1.098.714</td>\n",
       "      <td>9,.0</td>\n",
       "    </tr>\n",
       "    <tr>\n",
       "      <th>4</th>\n",
       "      <td>tt0110912</td>\n",
       "      <td>Pulp Fiction</td>\n",
       "      <td>1994-10-28</td>\n",
       "      <td>Crime, Drama</td>\n",
       "      <td></td>\n",
       "      <td>USA</td>\n",
       "      <td>R</td>\n",
       "      <td>Quentin Tarantino</td>\n",
       "      <td>NaN</td>\n",
       "      <td>$ 222831817</td>\n",
       "      <td>1.780.147</td>\n",
       "      <td>8,9f</td>\n",
       "    </tr>\n",
       "  </tbody>\n",
       "</table>\n",
       "</div>"
      ],
      "text/plain": [
       "  IMBD title ID            Original titlÊ  Release year                Genrë¨  \\\n",
       "0     tt0111161  The Shawshank Redemption    1995-02-10                 Drama   \n",
       "1     tt0068646             The Godfather    09 21 1972          Crime, Drama   \n",
       "2     tt0468569           The Dark Knight   23 -07-2008  Action, Crime, Drama   \n",
       "3     tt0071562    The Godfather: Part II    1975-09-25          Crime, Drama   \n",
       "4     tt0110912              Pulp Fiction    1994-10-28          Crime, Drama   \n",
       "\n",
       "  Duration Country Content Rating              Director  Unnamed: 8  \\\n",
       "0      142     USA              R        Frank Darabont         NaN   \n",
       "1      175     USA              R  Francis Ford Coppola         NaN   \n",
       "2      152      US          PG-13     Christopher Nolan         NaN   \n",
       "3      220     USA              R  Francis Ford Coppola         NaN   \n",
       "4              USA              R     Quentin Tarantino         NaN   \n",
       "\n",
       "          Income     Votes  Score  \n",
       "0     $ 28815245  2.278.845   9.3  \n",
       "1    $ 246120974  1.572.674   9.2  \n",
       "2   $ 1005455211  2.241.615    9.  \n",
       "3  $ 4o8,035,783  1.098.714  9,.0  \n",
       "4    $ 222831817  1.780.147  8,9f  "
      ]
     },
     "execution_count": 1,
     "metadata": {},
     "output_type": "execute_result"
    }
   ],
   "source": [
    "from pandas import DataFrame\n",
    "import pandas as pd\n",
    "import datetime\n",
    "df_messy = pd.read_csv(r\"messy_IMDB_dataset.csv\", encoding = \"ISO-8859-1\", delimiter=\";\")\n",
    "df_messy.head(5)"
   ]
  },
  {
   "cell_type": "code",
   "execution_count": 2,
   "metadata": {},
   "outputs": [
    {
     "name": "stdout",
     "output_type": "stream",
     "text": [
      "(101, 12)\n",
      "Index(['IMBD title ID', 'Original titlÊ', 'Release year', 'Genrë¨', 'Duration',\n",
      "       'Country', 'Content Rating', 'Director', 'Unnamed: 8', 'Income',\n",
      "       ' Votes ', 'Score'],\n",
      "      dtype='object')\n",
      "IMBD title ID      object\n",
      "Original titlÊ     object\n",
      "Release year       object\n",
      "Genrë¨             object\n",
      "Duration           object\n",
      "Country            object\n",
      "Content Rating     object\n",
      "Director           object\n",
      "Unnamed: 8        float64\n",
      "Income             object\n",
      " Votes             object\n",
      "Score              object\n",
      "dtype: object\n"
     ]
    }
   ],
   "source": [
    "#Some basic information\n",
    "print(df_messy.shape)\n",
    "print(df_messy.columns)\n",
    "print(df_messy.dtypes)"
   ]
  },
  {
   "cell_type": "markdown",
   "metadata": {},
   "source": [
    "Points of interest:\n",
    "* Correcting the **title** and **genre** column\n",
    "* Trimming the **votes** column\n",
    "* Investigating the **unnamed** column\n",
    "* Changing **score**, **votes**, **income**, and **duration** to numeric types "
   ]
  },
  {
   "cell_type": "code",
   "execution_count": 3,
   "metadata": {},
   "outputs": [
    {
     "data": {
      "text/plain": [
       "Index(['IMBD title ID', 'Title', 'Release year', 'Genrë¨', 'Duration',\n",
       "       'Country', 'Content Rating', 'Director', 'Unnamed: 8', 'Income',\n",
       "       'Votes', 'Score'],\n",
       "      dtype='object')"
      ]
     },
     "execution_count": 3,
     "metadata": {},
     "output_type": "execute_result"
    }
   ],
   "source": [
    "df_messy.rename(columns={'Original titlÊ': 'Title', 'Genrë': 'Genre',' Votes ': 'Votes'}, inplace=True)\n",
    "df_messy.columns"
   ]
  },
  {
   "cell_type": "code",
   "execution_count": 4,
   "metadata": {},
   "outputs": [],
   "source": [
    "df_messy.columns = df_messy.columns.str.replace('ë', '')"
   ]
  },
  {
   "cell_type": "code",
   "execution_count": 5,
   "metadata": {},
   "outputs": [
    {
     "data": {
      "text/plain": [
       "Index(['IMBD title ID', 'Title', 'Release year', 'Genre', 'Duration',\n",
       "       'Country', 'Content Rating', 'Director', 'Unnamed: 8', 'Income',\n",
       "       'Votes', 'Score'],\n",
       "      dtype='object')"
      ]
     },
     "execution_count": 5,
     "metadata": {},
     "output_type": "execute_result"
    }
   ],
   "source": [
    "df_messy.rename(columns={'Genr¨': 'Genre'}, inplace=True)\n",
    "df_messy.columns"
   ]
  },
  {
   "cell_type": "markdown",
   "metadata": {},
   "source": [
    "There are quite a few missing values in the **unnamed** column."
   ]
  },
  {
   "cell_type": "code",
   "execution_count": 6,
   "metadata": {},
   "outputs": [
    {
     "data": {
      "text/plain": [
       "IMBD title ID       1\n",
       "Title               1\n",
       "Release year        1\n",
       "Genre               1\n",
       "Duration            2\n",
       "Country             1\n",
       "Content Rating     24\n",
       "Director            1\n",
       "Unnamed: 8        101\n",
       "Income              1\n",
       "Votes               1\n",
       "Score               1\n",
       "dtype: int64"
      ]
     },
     "execution_count": 6,
     "metadata": {},
     "output_type": "execute_result"
    }
   ],
   "source": [
    "df_messy.isnull().sum()"
   ]
  },
  {
   "cell_type": "markdown",
   "metadata": {},
   "source": [
    "Deleting the **unnamed** column, since there is not a single value to be found in there."
   ]
  },
  {
   "cell_type": "code",
   "execution_count": 7,
   "metadata": {},
   "outputs": [
    {
     "data": {
      "text/plain": [
       "Index(['IMBD title ID', 'Title', 'Release year', 'Genre', 'Duration',\n",
       "       'Country', 'Content Rating', 'Director', 'Income', 'Votes', 'Score'],\n",
       "      dtype='object')"
      ]
     },
     "execution_count": 7,
     "metadata": {},
     "output_type": "execute_result"
    }
   ],
   "source": [
    "df_messy.drop(['Unnamed: 8'], axis=1, inplace=True)\n",
    "df_messy.columns"
   ]
  },
  {
   "cell_type": "code",
   "execution_count": 8,
   "metadata": {},
   "outputs": [
    {
     "data": {
      "text/html": [
       "<div>\n",
       "<style scoped>\n",
       "    .dataframe tbody tr th:only-of-type {\n",
       "        vertical-align: middle;\n",
       "    }\n",
       "\n",
       "    .dataframe tbody tr th {\n",
       "        vertical-align: top;\n",
       "    }\n",
       "\n",
       "    .dataframe thead th {\n",
       "        text-align: right;\n",
       "    }\n",
       "</style>\n",
       "<table border=\"1\" class=\"dataframe\">\n",
       "  <thead>\n",
       "    <tr style=\"text-align: right;\">\n",
       "      <th></th>\n",
       "      <th>IMBD title ID</th>\n",
       "      <th>Title</th>\n",
       "      <th>Release year</th>\n",
       "      <th>Genre</th>\n",
       "      <th>Duration</th>\n",
       "      <th>Country</th>\n",
       "      <th>Content Rating</th>\n",
       "      <th>Director</th>\n",
       "      <th>Income</th>\n",
       "      <th>Votes</th>\n",
       "      <th>Score</th>\n",
       "    </tr>\n",
       "  </thead>\n",
       "  <tbody>\n",
       "    <tr>\n",
       "      <th>13</th>\n",
       "      <td>NaN</td>\n",
       "      <td>NaN</td>\n",
       "      <td>NaN</td>\n",
       "      <td>NaN</td>\n",
       "      <td>NaN</td>\n",
       "      <td>NaN</td>\n",
       "      <td>NaN</td>\n",
       "      <td>NaN</td>\n",
       "      <td>NaN</td>\n",
       "      <td>NaN</td>\n",
       "      <td>NaN</td>\n",
       "    </tr>\n",
       "    <tr>\n",
       "      <th>14</th>\n",
       "      <td>tt0133093</td>\n",
       "      <td>The Matrix</td>\n",
       "      <td>1999-05-07</td>\n",
       "      <td>Action, Sci-Fi</td>\n",
       "      <td>NaN</td>\n",
       "      <td>USA</td>\n",
       "      <td>R</td>\n",
       "      <td>Lana Wachowski, Lilly Wachowski</td>\n",
       "      <td>$ 465718588</td>\n",
       "      <td>1.632.315</td>\n",
       "      <td>++8.7</td>\n",
       "    </tr>\n",
       "  </tbody>\n",
       "</table>\n",
       "</div>"
      ],
      "text/plain": [
       "   IMBD title ID       Title Release year           Genre Duration Country  \\\n",
       "13           NaN         NaN          NaN             NaN      NaN     NaN   \n",
       "14     tt0133093  The Matrix   1999-05-07  Action, Sci-Fi      NaN     USA   \n",
       "\n",
       "   Content Rating                         Director       Income      Votes  \\\n",
       "13            NaN                              NaN          NaN        NaN   \n",
       "14              R  Lana Wachowski, Lilly Wachowski  $ 465718588  1.632.315   \n",
       "\n",
       "    Score  \n",
       "13    NaN  \n",
       "14  ++8.7  "
      ]
     },
     "execution_count": 8,
     "metadata": {},
     "output_type": "execute_result"
    }
   ],
   "source": [
    "df_messy[df_messy['Duration'].isna()]"
   ]
  },
  {
   "cell_type": "markdown",
   "metadata": {},
   "source": [
    "I wanted to take a look at the *NaN* value of the **duration** column, because I thought that manually entering the missing values wouldn't be an issue, since there are only 2 of them and it's easily accessible information. But in the process I found an empty row to drop out of the dataframe to make the one missing value in most columns disappear."
   ]
  },
  {
   "cell_type": "code",
   "execution_count": 9,
   "metadata": {},
   "outputs": [
    {
     "data": {
      "text/plain": [
       "IMBD title ID      0\n",
       "Title              0\n",
       "Release year       0\n",
       "Genre              0\n",
       "Duration           1\n",
       "Country            0\n",
       "Content Rating    23\n",
       "Director           0\n",
       "Income             0\n",
       "Votes              0\n",
       "Score              0\n",
       "dtype: int64"
      ]
     },
     "execution_count": 9,
     "metadata": {},
     "output_type": "execute_result"
    }
   ],
   "source": [
    "df_messy.drop(index=13, inplace=True)\n",
    "df_messy.isnull().sum()"
   ]
  },
  {
   "cell_type": "code",
   "execution_count": 10,
   "metadata": {},
   "outputs": [],
   "source": [
    "df_messy.at[14, 'Duration'] = '136'"
   ]
  },
  {
   "cell_type": "code",
   "execution_count": 11,
   "metadata": {},
   "outputs": [
    {
     "data": {
      "text/html": [
       "<div>\n",
       "<style scoped>\n",
       "    .dataframe tbody tr th:only-of-type {\n",
       "        vertical-align: middle;\n",
       "    }\n",
       "\n",
       "    .dataframe tbody tr th {\n",
       "        vertical-align: top;\n",
       "    }\n",
       "\n",
       "    .dataframe thead th {\n",
       "        text-align: right;\n",
       "    }\n",
       "</style>\n",
       "<table border=\"1\" class=\"dataframe\">\n",
       "  <thead>\n",
       "    <tr style=\"text-align: right;\">\n",
       "      <th></th>\n",
       "      <th>IMBD title ID</th>\n",
       "      <th>Title</th>\n",
       "      <th>Release year</th>\n",
       "      <th>Genre</th>\n",
       "      <th>Duration</th>\n",
       "      <th>Country</th>\n",
       "      <th>Content Rating</th>\n",
       "      <th>Director</th>\n",
       "      <th>Income</th>\n",
       "      <th>Votes</th>\n",
       "      <th>Score</th>\n",
       "    </tr>\n",
       "  </thead>\n",
       "  <tbody>\n",
       "    <tr>\n",
       "      <th>14</th>\n",
       "      <td>tt0133093</td>\n",
       "      <td>The Matrix</td>\n",
       "      <td>1999-05-07</td>\n",
       "      <td>Action, Sci-Fi</td>\n",
       "      <td>136</td>\n",
       "      <td>USA</td>\n",
       "      <td>R</td>\n",
       "      <td>Lana Wachowski, Lilly Wachowski</td>\n",
       "      <td>$ 465718588</td>\n",
       "      <td>1.632.315</td>\n",
       "      <td>++8.7</td>\n",
       "    </tr>\n",
       "  </tbody>\n",
       "</table>\n",
       "</div>"
      ],
      "text/plain": [
       "   IMBD title ID       Title Release year           Genre Duration Country  \\\n",
       "14     tt0133093  The Matrix   1999-05-07  Action, Sci-Fi      136     USA   \n",
       "\n",
       "   Content Rating                         Director       Income      Votes  \\\n",
       "14              R  Lana Wachowski, Lilly Wachowski  $ 465718588  1.632.315   \n",
       "\n",
       "    Score  \n",
       "14  ++8.7  "
      ]
     },
     "execution_count": 11,
     "metadata": {},
     "output_type": "execute_result"
    }
   ],
   "source": [
    "df_messy[df_messy['Title'] == 'The Matrix']"
   ]
  },
  {
   "cell_type": "code",
   "execution_count": 12,
   "metadata": {},
   "outputs": [
    {
     "data": {
      "text/html": [
       "<div>\n",
       "<style scoped>\n",
       "    .dataframe tbody tr th:only-of-type {\n",
       "        vertical-align: middle;\n",
       "    }\n",
       "\n",
       "    .dataframe tbody tr th {\n",
       "        vertical-align: top;\n",
       "    }\n",
       "\n",
       "    .dataframe thead th {\n",
       "        text-align: right;\n",
       "    }\n",
       "</style>\n",
       "<table border=\"1\" class=\"dataframe\">\n",
       "  <thead>\n",
       "    <tr style=\"text-align: right;\">\n",
       "      <th></th>\n",
       "      <th>IMBD title ID</th>\n",
       "      <th>Title</th>\n",
       "      <th>Release year</th>\n",
       "      <th>Genre</th>\n",
       "      <th>Duration</th>\n",
       "      <th>Country</th>\n",
       "      <th>Content Rating</th>\n",
       "      <th>Director</th>\n",
       "      <th>Income</th>\n",
       "      <th>Votes</th>\n",
       "      <th>Score</th>\n",
       "    </tr>\n",
       "  </thead>\n",
       "  <tbody>\n",
       "    <tr>\n",
       "      <th>27</th>\n",
       "      <td>tt0118799</td>\n",
       "      <td>La vita B9 bella</td>\n",
       "      <td>1997-12-20</td>\n",
       "      <td>Comedy, Drama, Romance</td>\n",
       "      <td>116</td>\n",
       "      <td>Italy1</td>\n",
       "      <td>NaN</td>\n",
       "      <td>Roberto Benigni</td>\n",
       "      <td>$ 230098753</td>\n",
       "      <td>605.648</td>\n",
       "      <td>8.6</td>\n",
       "    </tr>\n",
       "    <tr>\n",
       "      <th>28</th>\n",
       "      <td>tt6751668</td>\n",
       "      <td>Gisaengchung</td>\n",
       "      <td>2019-11-07</td>\n",
       "      <td>Comedy, Drama, Thriller</td>\n",
       "      <td>132</td>\n",
       "      <td>South Korea</td>\n",
       "      <td>NaN</td>\n",
       "      <td>Bong Joon Ho</td>\n",
       "      <td>$ 257604912</td>\n",
       "      <td>470.931</td>\n",
       "      <td>8.6</td>\n",
       "    </tr>\n",
       "    <tr>\n",
       "      <th>36</th>\n",
       "      <td>tt0110413</td>\n",
       "      <td>LÃ©on</td>\n",
       "      <td>1995-04-07</td>\n",
       "      <td>Action, Crime, Drama</td>\n",
       "      <td>110</td>\n",
       "      <td>France</td>\n",
       "      <td>NaN</td>\n",
       "      <td>Luc Besson</td>\n",
       "      <td>$ 19552639</td>\n",
       "      <td>1.007.598</td>\n",
       "      <td>8.5</td>\n",
       "    </tr>\n",
       "    <tr>\n",
       "      <th>40</th>\n",
       "      <td>tt7286456</td>\n",
       "      <td>Joker</td>\n",
       "      <td>2019-10-03</td>\n",
       "      <td>Crime, Drama, Thriller</td>\n",
       "      <td>122</td>\n",
       "      <td>USA</td>\n",
       "      <td>NaN</td>\n",
       "      <td>Todd Phillips</td>\n",
       "      <td>$ 1074251311</td>\n",
       "      <td>855.097</td>\n",
       "      <td>8.4</td>\n",
       "    </tr>\n",
       "    <tr>\n",
       "      <th>41</th>\n",
       "      <td>tt1675434</td>\n",
       "      <td>Intouchables</td>\n",
       "      <td>2012-02-24</td>\n",
       "      <td>Biography, Comedy, Drama</td>\n",
       "      <td>112</td>\n",
       "      <td>France</td>\n",
       "      <td>NaN</td>\n",
       "      <td>Olivier Nakache, Ãric Toledano</td>\n",
       "      <td>$ 426588510</td>\n",
       "      <td>736.691</td>\n",
       "      <td>8.4</td>\n",
       "    </tr>\n",
       "    <tr>\n",
       "      <th>47</th>\n",
       "      <td>tt0095327</td>\n",
       "      <td>Hotaru no haka</td>\n",
       "      <td>2015-10-11</td>\n",
       "      <td>Animation, Drama, War</td>\n",
       "      <td>89</td>\n",
       "      <td>Japan</td>\n",
       "      <td>NaN</td>\n",
       "      <td>Isao Takahata</td>\n",
       "      <td>$ 516962</td>\n",
       "      <td>225.438</td>\n",
       "      <td>8.3</td>\n",
       "    </tr>\n",
       "    <tr>\n",
       "      <th>48</th>\n",
       "      <td>tt0095765</td>\n",
       "      <td>Nuovo Cinema Paradiso</td>\n",
       "      <td>1988-11-17</td>\n",
       "      <td>Drama</td>\n",
       "      <td>155</td>\n",
       "      <td>Italy</td>\n",
       "      <td>NaN</td>\n",
       "      <td>Giuseppe Tornatore</td>\n",
       "      <td>$ 13826605</td>\n",
       "      <td>223.050</td>\n",
       "      <td>8.3</td>\n",
       "    </tr>\n",
       "    <tr>\n",
       "      <th>56</th>\n",
       "      <td>tt4154756</td>\n",
       "      <td>Avengers: Infinity War</td>\n",
       "      <td>2018-04-25</td>\n",
       "      <td>Action, Adventure, Sci-Fi</td>\n",
       "      <td>149</td>\n",
       "      <td>USA</td>\n",
       "      <td>NaN</td>\n",
       "      <td>Anthony Russo, Joe Russo</td>\n",
       "      <td>$ 2048359754</td>\n",
       "      <td>796.486</td>\n",
       "      <td>8.2</td>\n",
       "    </tr>\n",
       "    <tr>\n",
       "      <th>58</th>\n",
       "      <td>tt4154796</td>\n",
       "      <td>Avengers: Endgame</td>\n",
       "      <td>2019-04-24</td>\n",
       "      <td>Action, Adventure, Drama</td>\n",
       "      <td>181</td>\n",
       "      <td>USA</td>\n",
       "      <td>NaN</td>\n",
       "      <td>Anthony Russo, Joe Russo</td>\n",
       "      <td>$ 2797800564</td>\n",
       "      <td>754.786</td>\n",
       "      <td>8.2</td>\n",
       "    </tr>\n",
       "    <tr>\n",
       "      <th>62</th>\n",
       "      <td>tt0047396</td>\n",
       "      <td>Rear Window</td>\n",
       "      <td>1955-04-14</td>\n",
       "      <td>Mystery, Thriller</td>\n",
       "      <td>112</td>\n",
       "      <td>USA</td>\n",
       "      <td>NaN</td>\n",
       "      <td>Alfred Hitchcock</td>\n",
       "      <td>$ 37032034</td>\n",
       "      <td>432.390</td>\n",
       "      <td>8.1</td>\n",
       "    </tr>\n",
       "    <tr>\n",
       "      <th>63</th>\n",
       "      <td>tt2380307</td>\n",
       "      <td>Coco</td>\n",
       "      <td>2017-12-28</td>\n",
       "      <td>Animation, Adventure, Family</td>\n",
       "      <td>105</td>\n",
       "      <td>USA</td>\n",
       "      <td>NaN</td>\n",
       "      <td>Lee Unkrich, Adrian Molina</td>\n",
       "      <td>$ 807083670</td>\n",
       "      <td>352.455</td>\n",
       "      <td>8.1</td>\n",
       "    </tr>\n",
       "    <tr>\n",
       "      <th>65</th>\n",
       "      <td>tt4633694</td>\n",
       "      <td>Spider-Man: Into the Spider-Verse</td>\n",
       "      <td>2018-12-25</td>\n",
       "      <td>Animation, Action, Adventure</td>\n",
       "      <td>117</td>\n",
       "      <td>USA</td>\n",
       "      <td>NaN</td>\n",
       "      <td>Bob Persichetti, Peter Ramsey</td>\n",
       "      <td>$ 375540831</td>\n",
       "      <td>335.892</td>\n",
       "      <td>8.1</td>\n",
       "    </tr>\n",
       "    <tr>\n",
       "      <th>66</th>\n",
       "      <td>tt1187043</td>\n",
       "      <td>3 Idiots</td>\n",
       "      <td>2009-12-25</td>\n",
       "      <td>Comedy, Drama</td>\n",
       "      <td>170</td>\n",
       "      <td>India</td>\n",
       "      <td>NaN</td>\n",
       "      <td>Rajkumar Hirani</td>\n",
       "      <td>$ 60262836</td>\n",
       "      <td>332.217</td>\n",
       "      <td>8.1</td>\n",
       "    </tr>\n",
       "    <tr>\n",
       "      <th>69</th>\n",
       "      <td>tt0032553</td>\n",
       "      <td>The Great Dictator</td>\n",
       "      <td>1945-06-25</td>\n",
       "      <td>Comedy, Drama, War</td>\n",
       "      <td>125</td>\n",
       "      <td>USA</td>\n",
       "      <td>NaN</td>\n",
       "      <td>Charles Chaplin</td>\n",
       "      <td>$ 969879</td>\n",
       "      <td>197.381</td>\n",
       "      <td>8.0</td>\n",
       "    </tr>\n",
       "    <tr>\n",
       "      <th>70</th>\n",
       "      <td>tt0043014</td>\n",
       "      <td>Sunset Blvd.</td>\n",
       "      <td>The 6th of marzo, year 1951</td>\n",
       "      <td>Drama, Film-Noir</td>\n",
       "      <td>110</td>\n",
       "      <td>USA</td>\n",
       "      <td>NaN</td>\n",
       "      <td>Billy Wilder</td>\n",
       "      <td>$ 299645</td>\n",
       "      <td>195.789</td>\n",
       "      <td>8.0</td>\n",
       "    </tr>\n",
       "    <tr>\n",
       "      <th>81</th>\n",
       "      <td>tt0066921</td>\n",
       "      <td>A Clockwork Orange</td>\n",
       "      <td>1972-09-07</td>\n",
       "      <td>Crime, Drama, Sci-Fi</td>\n",
       "      <td>136</td>\n",
       "      <td>UK</td>\n",
       "      <td>NaN</td>\n",
       "      <td>Stanley Kubrick</td>\n",
       "      <td>$ 26903440</td>\n",
       "      <td>740.301</td>\n",
       "      <td>7.8</td>\n",
       "    </tr>\n",
       "    <tr>\n",
       "      <th>86</th>\n",
       "      <td>tt0093058</td>\n",
       "      <td>Full Metal Jacket</td>\n",
       "      <td>1987-10-09</td>\n",
       "      <td>Drama, War</td>\n",
       "      <td>116</td>\n",
       "      <td>UK</td>\n",
       "      <td>NaN</td>\n",
       "      <td>Stanley Kubrick</td>\n",
       "      <td>$ 46357676</td>\n",
       "      <td>658.175</td>\n",
       "      <td>7.7</td>\n",
       "    </tr>\n",
       "    <tr>\n",
       "      <th>89</th>\n",
       "      <td>tt0033467</td>\n",
       "      <td>Citizen Kane</td>\n",
       "      <td>1948-11-25</td>\n",
       "      <td>Drama, Mystery</td>\n",
       "      <td>119</td>\n",
       "      <td>USA</td>\n",
       "      <td>NaN</td>\n",
       "      <td>Orson Welles</td>\n",
       "      <td>$ 1594107</td>\n",
       "      <td>389.322</td>\n",
       "      <td>7.6</td>\n",
       "    </tr>\n",
       "    <tr>\n",
       "      <th>90</th>\n",
       "      <td>tt8579674</td>\n",
       "      <td>1917</td>\n",
       "      <td>2020-01-23</td>\n",
       "      <td>Drama, War</td>\n",
       "      <td>119</td>\n",
       "      <td>USA</td>\n",
       "      <td>NaN</td>\n",
       "      <td>Sam Mendes</td>\n",
       "      <td>$ 384857224</td>\n",
       "      <td>362.897</td>\n",
       "      <td>7.6</td>\n",
       "    </tr>\n",
       "    <tr>\n",
       "      <th>92</th>\n",
       "      <td>tt0052357</td>\n",
       "      <td>Vertigo</td>\n",
       "      <td>1958-11-18</td>\n",
       "      <td>Mystery, Romance, Thriller</td>\n",
       "      <td>128</td>\n",
       "      <td>USA</td>\n",
       "      <td>NaN</td>\n",
       "      <td>Alfred Hitchcock</td>\n",
       "      <td>$ 7796389</td>\n",
       "      <td>352.786</td>\n",
       "      <td>7.5</td>\n",
       "    </tr>\n",
       "    <tr>\n",
       "      <th>93</th>\n",
       "      <td>tt0053125</td>\n",
       "      <td>North by Northwest</td>\n",
       "      <td>1959-10-28</td>\n",
       "      <td>Adventure, Mystery, Thriller</td>\n",
       "      <td>136</td>\n",
       "      <td>USA</td>\n",
       "      <td>NaN</td>\n",
       "      <td>Alfred Hitchcock</td>\n",
       "      <td>$ 73446</td>\n",
       "      <td>291.628</td>\n",
       "      <td>7.5</td>\n",
       "    </tr>\n",
       "    <tr>\n",
       "      <th>98</th>\n",
       "      <td>tt0059578</td>\n",
       "      <td>Per qualche dollaro in piÃ¹</td>\n",
       "      <td>1965-12-20</td>\n",
       "      <td>Western</td>\n",
       "      <td>132</td>\n",
       "      <td>Italy</td>\n",
       "      <td>NaN</td>\n",
       "      <td>Sergio Leone</td>\n",
       "      <td>$ 15000000</td>\n",
       "      <td>226.039</td>\n",
       "      <td>7.4</td>\n",
       "    </tr>\n",
       "    <tr>\n",
       "      <th>100</th>\n",
       "      <td>tt0045152</td>\n",
       "      <td>Singin' in the Rain</td>\n",
       "      <td>1953-02-05</td>\n",
       "      <td>Comedy, Musical, Romance</td>\n",
       "      <td>103</td>\n",
       "      <td>USA</td>\n",
       "      <td>NaN</td>\n",
       "      <td>Stanley Donen</td>\n",
       "      <td>$ 1864182</td>\n",
       "      <td>213.152</td>\n",
       "      <td>7.4</td>\n",
       "    </tr>\n",
       "  </tbody>\n",
       "</table>\n",
       "</div>"
      ],
      "text/plain": [
       "    IMBD title ID                              Title  \\\n",
       "27      tt0118799                   La vita B9 bella   \n",
       "28      tt6751668                       Gisaengchung   \n",
       "36      tt0110413                              LÃ©on   \n",
       "40      tt7286456                              Joker   \n",
       "41      tt1675434                       Intouchables   \n",
       "47      tt0095327                     Hotaru no haka   \n",
       "48      tt0095765              Nuovo Cinema Paradiso   \n",
       "56      tt4154756             Avengers: Infinity War   \n",
       "58      tt4154796                  Avengers: Endgame   \n",
       "62      tt0047396                        Rear Window   \n",
       "63      tt2380307                               Coco   \n",
       "65      tt4633694  Spider-Man: Into the Spider-Verse   \n",
       "66      tt1187043                           3 Idiots   \n",
       "69      tt0032553                 The Great Dictator   \n",
       "70      tt0043014                       Sunset Blvd.   \n",
       "81      tt0066921                 A Clockwork Orange   \n",
       "86      tt0093058                  Full Metal Jacket   \n",
       "89      tt0033467                       Citizen Kane   \n",
       "90      tt8579674                               1917   \n",
       "92      tt0052357                            Vertigo   \n",
       "93      tt0053125                 North by Northwest   \n",
       "98      tt0059578        Per qualche dollaro in piÃ¹   \n",
       "100     tt0045152                Singin' in the Rain   \n",
       "\n",
       "                    Release year                         Genre Duration  \\\n",
       "27                    1997-12-20        Comedy, Drama, Romance      116   \n",
       "28                    2019-11-07       Comedy, Drama, Thriller      132   \n",
       "36                    1995-04-07          Action, Crime, Drama      110   \n",
       "40                    2019-10-03        Crime, Drama, Thriller      122   \n",
       "41                    2012-02-24      Biography, Comedy, Drama      112   \n",
       "47                    2015-10-11         Animation, Drama, War       89   \n",
       "48                    1988-11-17                         Drama      155   \n",
       "56                    2018-04-25     Action, Adventure, Sci-Fi      149   \n",
       "58                    2019-04-24      Action, Adventure, Drama      181   \n",
       "62                    1955-04-14             Mystery, Thriller      112   \n",
       "63                    2017-12-28  Animation, Adventure, Family      105   \n",
       "65                    2018-12-25  Animation, Action, Adventure      117   \n",
       "66                    2009-12-25                 Comedy, Drama      170   \n",
       "69                    1945-06-25            Comedy, Drama, War      125   \n",
       "70   The 6th of marzo, year 1951              Drama, Film-Noir      110   \n",
       "81                    1972-09-07          Crime, Drama, Sci-Fi      136   \n",
       "86                    1987-10-09                    Drama, War      116   \n",
       "89                    1948-11-25                Drama, Mystery      119   \n",
       "90                    2020-01-23                    Drama, War      119   \n",
       "92                    1958-11-18    Mystery, Romance, Thriller      128   \n",
       "93                    1959-10-28  Adventure, Mystery, Thriller      136   \n",
       "98                    1965-12-20                       Western      132   \n",
       "100                   1953-02-05      Comedy, Musical, Romance      103   \n",
       "\n",
       "         Country Content Rating                         Director  \\\n",
       "27        Italy1            NaN                  Roberto Benigni   \n",
       "28   South Korea            NaN                     Bong Joon Ho   \n",
       "36        France            NaN                       Luc Besson   \n",
       "40           USA            NaN                    Todd Phillips   \n",
       "41        France            NaN  Olivier Nakache, Ãric Toledano   \n",
       "47         Japan            NaN                    Isao Takahata   \n",
       "48         Italy            NaN               Giuseppe Tornatore   \n",
       "56           USA            NaN         Anthony Russo, Joe Russo   \n",
       "58           USA            NaN         Anthony Russo, Joe Russo   \n",
       "62           USA            NaN                 Alfred Hitchcock   \n",
       "63           USA            NaN       Lee Unkrich, Adrian Molina   \n",
       "65           USA            NaN    Bob Persichetti, Peter Ramsey   \n",
       "66         India            NaN                  Rajkumar Hirani   \n",
       "69           USA            NaN                  Charles Chaplin   \n",
       "70           USA            NaN                     Billy Wilder   \n",
       "81            UK            NaN                  Stanley Kubrick   \n",
       "86            UK            NaN                  Stanley Kubrick   \n",
       "89           USA            NaN                     Orson Welles   \n",
       "90           USA            NaN                       Sam Mendes   \n",
       "92           USA            NaN                 Alfred Hitchcock   \n",
       "93           USA            NaN                 Alfred Hitchcock   \n",
       "98         Italy            NaN                     Sergio Leone   \n",
       "100          USA            NaN                    Stanley Donen   \n",
       "\n",
       "           Income      Votes Score  \n",
       "27    $ 230098753    605.648   8.6  \n",
       "28    $ 257604912    470.931   8.6  \n",
       "36     $ 19552639  1.007.598   8.5  \n",
       "40   $ 1074251311    855.097   8.4  \n",
       "41    $ 426588510    736.691   8.4  \n",
       "47       $ 516962    225.438   8.3  \n",
       "48     $ 13826605    223.050   8.3  \n",
       "56   $ 2048359754    796.486   8.2  \n",
       "58   $ 2797800564    754.786   8.2  \n",
       "62     $ 37032034    432.390   8.1  \n",
       "63    $ 807083670    352.455   8.1  \n",
       "65    $ 375540831    335.892   8.1  \n",
       "66     $ 60262836    332.217   8.1  \n",
       "69       $ 969879    197.381   8.0  \n",
       "70       $ 299645    195.789   8.0  \n",
       "81     $ 26903440    740.301   7.8  \n",
       "86     $ 46357676    658.175   7.7  \n",
       "89      $ 1594107    389.322   7.6  \n",
       "90    $ 384857224    362.897   7.6  \n",
       "92      $ 7796389    352.786   7.5  \n",
       "93        $ 73446    291.628   7.5  \n",
       "98     $ 15000000    226.039   7.4  \n",
       "100     $ 1864182    213.152   7.4  "
      ]
     },
     "execution_count": 12,
     "metadata": {},
     "output_type": "execute_result"
    }
   ],
   "source": [
    "df_messy[df_messy['Content Rating'].isna()]"
   ]
  },
  {
   "cell_type": "markdown",
   "metadata": {},
   "source": [
    "There are special characters in the **Title** column, the **Release Year** column needs to get formatted, and there are numbers in the **Country** column. But since the **Content Rating** column has over 20% of its values missing, I will be removing it. Also, I'll be removing **IMDB Title ID** from further analysis since there is no need for it."
   ]
  },
  {
   "cell_type": "code",
   "execution_count": 13,
   "metadata": {},
   "outputs": [],
   "source": [
    "df_v2 = DataFrame(df_messy, columns=['Title', 'Release year', 'Genre', 'Duration',\n",
    "       'Country', 'Director', 'Income', 'Votes', 'Score'])"
   ]
  },
  {
   "cell_type": "code",
   "execution_count": 14,
   "metadata": {},
   "outputs": [
    {
     "data": {
      "text/html": [
       "<div>\n",
       "<style scoped>\n",
       "    .dataframe tbody tr th:only-of-type {\n",
       "        vertical-align: middle;\n",
       "    }\n",
       "\n",
       "    .dataframe tbody tr th {\n",
       "        vertical-align: top;\n",
       "    }\n",
       "\n",
       "    .dataframe thead th {\n",
       "        text-align: right;\n",
       "    }\n",
       "</style>\n",
       "<table border=\"1\" class=\"dataframe\">\n",
       "  <thead>\n",
       "    <tr style=\"text-align: right;\">\n",
       "      <th></th>\n",
       "      <th>Title</th>\n",
       "      <th>Release year</th>\n",
       "      <th>Genre</th>\n",
       "      <th>Duration</th>\n",
       "      <th>Country</th>\n",
       "      <th>Director</th>\n",
       "      <th>Income</th>\n",
       "      <th>Votes</th>\n",
       "      <th>Score</th>\n",
       "    </tr>\n",
       "  </thead>\n",
       "  <tbody>\n",
       "    <tr>\n",
       "      <th>0</th>\n",
       "      <td>The Shawshank Redemption</td>\n",
       "      <td>1995-02-10</td>\n",
       "      <td>Drama</td>\n",
       "      <td>142</td>\n",
       "      <td>USA</td>\n",
       "      <td>Frank Darabont</td>\n",
       "      <td>$ 28815245</td>\n",
       "      <td>2.278.845</td>\n",
       "      <td>9.3</td>\n",
       "    </tr>\n",
       "    <tr>\n",
       "      <th>1</th>\n",
       "      <td>The Godfather</td>\n",
       "      <td>09 21 1972</td>\n",
       "      <td>Crime, Drama</td>\n",
       "      <td>175</td>\n",
       "      <td>USA</td>\n",
       "      <td>Francis Ford Coppola</td>\n",
       "      <td>$ 246120974</td>\n",
       "      <td>1.572.674</td>\n",
       "      <td>9.2</td>\n",
       "    </tr>\n",
       "    <tr>\n",
       "      <th>2</th>\n",
       "      <td>The Dark Knight</td>\n",
       "      <td>23 -07-2008</td>\n",
       "      <td>Action, Crime, Drama</td>\n",
       "      <td>152</td>\n",
       "      <td>US</td>\n",
       "      <td>Christopher Nolan</td>\n",
       "      <td>$ 1005455211</td>\n",
       "      <td>2.241.615</td>\n",
       "      <td>9.</td>\n",
       "    </tr>\n",
       "    <tr>\n",
       "      <th>3</th>\n",
       "      <td>The Godfather: Part II</td>\n",
       "      <td>1975-09-25</td>\n",
       "      <td>Crime, Drama</td>\n",
       "      <td>220</td>\n",
       "      <td>USA</td>\n",
       "      <td>Francis Ford Coppola</td>\n",
       "      <td>$ 4o8,035,783</td>\n",
       "      <td>1.098.714</td>\n",
       "      <td>9,.0</td>\n",
       "    </tr>\n",
       "    <tr>\n",
       "      <th>4</th>\n",
       "      <td>Pulp Fiction</td>\n",
       "      <td>1994-10-28</td>\n",
       "      <td>Crime, Drama</td>\n",
       "      <td></td>\n",
       "      <td>USA</td>\n",
       "      <td>Quentin Tarantino</td>\n",
       "      <td>$ 222831817</td>\n",
       "      <td>1.780.147</td>\n",
       "      <td>8,9f</td>\n",
       "    </tr>\n",
       "  </tbody>\n",
       "</table>\n",
       "</div>"
      ],
      "text/plain": [
       "                      Title  Release year                 Genre Duration  \\\n",
       "0  The Shawshank Redemption    1995-02-10                 Drama      142   \n",
       "1             The Godfather    09 21 1972          Crime, Drama      175   \n",
       "2           The Dark Knight   23 -07-2008  Action, Crime, Drama      152   \n",
       "3    The Godfather: Part II    1975-09-25          Crime, Drama      220   \n",
       "4              Pulp Fiction    1994-10-28          Crime, Drama            \n",
       "\n",
       "  Country              Director         Income      Votes Score  \n",
       "0     USA        Frank Darabont     $ 28815245  2.278.845   9.3  \n",
       "1     USA  Francis Ford Coppola    $ 246120974  1.572.674   9.2  \n",
       "2      US     Christopher Nolan   $ 1005455211  2.241.615    9.  \n",
       "3     USA  Francis Ford Coppola  $ 4o8,035,783  1.098.714  9,.0  \n",
       "4     USA     Quentin Tarantino    $ 222831817  1.780.147  8,9f  "
      ]
     },
     "execution_count": 14,
     "metadata": {},
     "output_type": "execute_result"
    }
   ],
   "source": [
    "df_v2.head(5)"
   ]
  },
  {
   "cell_type": "code",
   "execution_count": 15,
   "metadata": {},
   "outputs": [
    {
     "data": {
      "text/plain": [
       "Title           object\n",
       "Release year    object\n",
       "Genre           object\n",
       "Duration        object\n",
       "Country         object\n",
       "Director        object\n",
       "Income          object\n",
       "Votes           object\n",
       "Score           object\n",
       "dtype: object"
      ]
     },
     "execution_count": 15,
     "metadata": {},
     "output_type": "execute_result"
    }
   ],
   "source": [
    "#Small reminder\n",
    "df_v2.dtypes"
   ]
  },
  {
   "cell_type": "code",
   "execution_count": 16,
   "metadata": {},
   "outputs": [],
   "source": [
    "#df_v2['Release year'] = pd.to_datetime(df_v2['Release year']) throws an error because of strings inside the column"
   ]
  },
  {
   "cell_type": "markdown",
   "metadata": {},
   "source": [
    "I need to go look for the entry containing *The 6th of marzo, year 1951*. "
   ]
  },
  {
   "cell_type": "code",
   "execution_count": 17,
   "metadata": {},
   "outputs": [
    {
     "data": {
      "text/html": [
       "<div>\n",
       "<style scoped>\n",
       "    .dataframe tbody tr th:only-of-type {\n",
       "        vertical-align: middle;\n",
       "    }\n",
       "\n",
       "    .dataframe tbody tr th {\n",
       "        vertical-align: top;\n",
       "    }\n",
       "\n",
       "    .dataframe thead th {\n",
       "        text-align: right;\n",
       "    }\n",
       "</style>\n",
       "<table border=\"1\" class=\"dataframe\">\n",
       "  <thead>\n",
       "    <tr style=\"text-align: right;\">\n",
       "      <th></th>\n",
       "      <th>Title</th>\n",
       "      <th>Release year</th>\n",
       "      <th>Genre</th>\n",
       "      <th>Duration</th>\n",
       "      <th>Country</th>\n",
       "      <th>Director</th>\n",
       "      <th>Income</th>\n",
       "      <th>Votes</th>\n",
       "      <th>Score</th>\n",
       "    </tr>\n",
       "  </thead>\n",
       "  <tbody>\n",
       "    <tr>\n",
       "      <th>70</th>\n",
       "      <td>Sunset Blvd.</td>\n",
       "      <td>The 6th of marzo, year 1951</td>\n",
       "      <td>Drama, Film-Noir</td>\n",
       "      <td>110</td>\n",
       "      <td>USA</td>\n",
       "      <td>Billy Wilder</td>\n",
       "      <td>$ 299645</td>\n",
       "      <td>195.789</td>\n",
       "      <td>8.0</td>\n",
       "    </tr>\n",
       "  </tbody>\n",
       "</table>\n",
       "</div>"
      ],
      "text/plain": [
       "           Title                 Release year             Genre Duration  \\\n",
       "70  Sunset Blvd.  The 6th of marzo, year 1951  Drama, Film-Noir      110   \n",
       "\n",
       "   Country      Director    Income    Votes Score  \n",
       "70     USA  Billy Wilder  $ 299645  195.789   8.0  "
      ]
     },
     "execution_count": 17,
     "metadata": {},
     "output_type": "execute_result"
    }
   ],
   "source": [
    "df_v2[df_v2['Release year'] == 'The 6th of marzo, year 1951']"
   ]
  },
  {
   "cell_type": "code",
   "execution_count": 18,
   "metadata": {},
   "outputs": [
    {
     "data": {
      "text/html": [
       "<div>\n",
       "<style scoped>\n",
       "    .dataframe tbody tr th:only-of-type {\n",
       "        vertical-align: middle;\n",
       "    }\n",
       "\n",
       "    .dataframe tbody tr th {\n",
       "        vertical-align: top;\n",
       "    }\n",
       "\n",
       "    .dataframe thead th {\n",
       "        text-align: right;\n",
       "    }\n",
       "</style>\n",
       "<table border=\"1\" class=\"dataframe\">\n",
       "  <thead>\n",
       "    <tr style=\"text-align: right;\">\n",
       "      <th></th>\n",
       "      <th>Title</th>\n",
       "      <th>Release year</th>\n",
       "      <th>Genre</th>\n",
       "      <th>Duration</th>\n",
       "      <th>Country</th>\n",
       "      <th>Director</th>\n",
       "      <th>Income</th>\n",
       "      <th>Votes</th>\n",
       "      <th>Score</th>\n",
       "    </tr>\n",
       "  </thead>\n",
       "  <tbody>\n",
       "    <tr>\n",
       "      <th>70</th>\n",
       "      <td>Sunset Blvd.</td>\n",
       "      <td>1951-03-06</td>\n",
       "      <td>Drama, Film-Noir</td>\n",
       "      <td>110</td>\n",
       "      <td>USA</td>\n",
       "      <td>Billy Wilder</td>\n",
       "      <td>$ 299645</td>\n",
       "      <td>195.789</td>\n",
       "      <td>8.0</td>\n",
       "    </tr>\n",
       "  </tbody>\n",
       "</table>\n",
       "</div>"
      ],
      "text/plain": [
       "           Title Release year             Genre Duration Country  \\\n",
       "70  Sunset Blvd.   1951-03-06  Drama, Film-Noir      110     USA   \n",
       "\n",
       "        Director    Income    Votes Score  \n",
       "70  Billy Wilder  $ 299645  195.789   8.0  "
      ]
     },
     "execution_count": 18,
     "metadata": {},
     "output_type": "execute_result"
    }
   ],
   "source": [
    "df_v2.at[70, 'Release year'] = '1951-03-06'\n",
    "df_v2[df_v2['Title'] == 'Sunset Blvd.']"
   ]
  },
  {
   "cell_type": "code",
   "execution_count": 19,
   "metadata": {},
   "outputs": [],
   "source": [
    "#df_v2['Release year'] = pd.to_datetime(df_v2['Release year']) another error to investigate"
   ]
  },
  {
   "cell_type": "code",
   "execution_count": 20,
   "metadata": {},
   "outputs": [
    {
     "data": {
      "text/html": [
       "<div>\n",
       "<style scoped>\n",
       "    .dataframe tbody tr th:only-of-type {\n",
       "        vertical-align: middle;\n",
       "    }\n",
       "\n",
       "    .dataframe tbody tr th {\n",
       "        vertical-align: top;\n",
       "    }\n",
       "\n",
       "    .dataframe thead th {\n",
       "        text-align: right;\n",
       "    }\n",
       "</style>\n",
       "<table border=\"1\" class=\"dataframe\">\n",
       "  <thead>\n",
       "    <tr style=\"text-align: right;\">\n",
       "      <th></th>\n",
       "      <th>Title</th>\n",
       "      <th>Release year</th>\n",
       "      <th>Genre</th>\n",
       "      <th>Duration</th>\n",
       "      <th>Country</th>\n",
       "      <th>Director</th>\n",
       "      <th>Income</th>\n",
       "      <th>Votes</th>\n",
       "      <th>Score</th>\n",
       "    </tr>\n",
       "  </thead>\n",
       "  <tbody>\n",
       "    <tr>\n",
       "      <th>83</th>\n",
       "      <td>Scarface</td>\n",
       "      <td>1984-02-34</td>\n",
       "      <td>Crime, Drama</td>\n",
       "      <td>170</td>\n",
       "      <td>USA</td>\n",
       "      <td>Brian De Palma</td>\n",
       "      <td>$ 66023585</td>\n",
       "      <td>721.343</td>\n",
       "      <td>7.8</td>\n",
       "    </tr>\n",
       "  </tbody>\n",
       "</table>\n",
       "</div>"
      ],
      "text/plain": [
       "       Title Release year         Genre Duration Country        Director  \\\n",
       "83  Scarface   1984-02-34  Crime, Drama      170     USA  Brian De Palma   \n",
       "\n",
       "        Income    Votes Score  \n",
       "83  $ 66023585  721.343   7.8  "
      ]
     },
     "execution_count": 20,
     "metadata": {},
     "output_type": "execute_result"
    }
   ],
   "source": [
    "df_v2[df_v2['Release year'] == '1984-02-34']"
   ]
  },
  {
   "cell_type": "code",
   "execution_count": 21,
   "metadata": {},
   "outputs": [
    {
     "data": {
      "text/html": [
       "<div>\n",
       "<style scoped>\n",
       "    .dataframe tbody tr th:only-of-type {\n",
       "        vertical-align: middle;\n",
       "    }\n",
       "\n",
       "    .dataframe tbody tr th {\n",
       "        vertical-align: top;\n",
       "    }\n",
       "\n",
       "    .dataframe thead th {\n",
       "        text-align: right;\n",
       "    }\n",
       "</style>\n",
       "<table border=\"1\" class=\"dataframe\">\n",
       "  <thead>\n",
       "    <tr style=\"text-align: right;\">\n",
       "      <th></th>\n",
       "      <th>Title</th>\n",
       "      <th>Release year</th>\n",
       "      <th>Genre</th>\n",
       "      <th>Duration</th>\n",
       "      <th>Country</th>\n",
       "      <th>Director</th>\n",
       "      <th>Income</th>\n",
       "      <th>Votes</th>\n",
       "      <th>Score</th>\n",
       "    </tr>\n",
       "  </thead>\n",
       "  <tbody>\n",
       "    <tr>\n",
       "      <th>83</th>\n",
       "      <td>Scarface</td>\n",
       "      <td>1983-12-01</td>\n",
       "      <td>Crime, Drama</td>\n",
       "      <td>170</td>\n",
       "      <td>USA</td>\n",
       "      <td>Brian De Palma</td>\n",
       "      <td>$ 66023585</td>\n",
       "      <td>721.343</td>\n",
       "      <td>7.8</td>\n",
       "    </tr>\n",
       "  </tbody>\n",
       "</table>\n",
       "</div>"
      ],
      "text/plain": [
       "       Title Release year         Genre Duration Country        Director  \\\n",
       "83  Scarface   1983-12-01  Crime, Drama      170     USA  Brian De Palma   \n",
       "\n",
       "        Income    Votes Score  \n",
       "83  $ 66023585  721.343   7.8  "
      ]
     },
     "execution_count": 21,
     "metadata": {},
     "output_type": "execute_result"
    }
   ],
   "source": [
    "#looking up the correct date on IMDb\n",
    "df_v2.at[83, 'Release year'] = '1983-12-01'\n",
    "df_v2[df_v2['Title'] == 'Scarface']"
   ]
  },
  {
   "cell_type": "code",
   "execution_count": 22,
   "metadata": {},
   "outputs": [],
   "source": [
    "#df_v2['Release year'] = pd.to_datetime(df_v2['Release year']) another error to investigate"
   ]
  },
  {
   "cell_type": "code",
   "execution_count": 23,
   "metadata": {},
   "outputs": [
    {
     "data": {
      "text/html": [
       "<div>\n",
       "<style scoped>\n",
       "    .dataframe tbody tr th:only-of-type {\n",
       "        vertical-align: middle;\n",
       "    }\n",
       "\n",
       "    .dataframe tbody tr th {\n",
       "        vertical-align: top;\n",
       "    }\n",
       "\n",
       "    .dataframe thead th {\n",
       "        text-align: right;\n",
       "    }\n",
       "</style>\n",
       "<table border=\"1\" class=\"dataframe\">\n",
       "  <thead>\n",
       "    <tr style=\"text-align: right;\">\n",
       "      <th></th>\n",
       "      <th>Title</th>\n",
       "      <th>Release year</th>\n",
       "      <th>Genre</th>\n",
       "      <th>Duration</th>\n",
       "      <th>Country</th>\n",
       "      <th>Director</th>\n",
       "      <th>Income</th>\n",
       "      <th>Votes</th>\n",
       "      <th>Score</th>\n",
       "    </tr>\n",
       "  </thead>\n",
       "  <tbody>\n",
       "    <tr>\n",
       "      <th>84</th>\n",
       "      <td>Taxi Driver</td>\n",
       "      <td>1976-13-24</td>\n",
       "      <td>Crime, Drama</td>\n",
       "      <td>114</td>\n",
       "      <td>USA</td>\n",
       "      <td>Martin Scorsese</td>\n",
       "      <td>$ 28441292</td>\n",
       "      <td>703.264</td>\n",
       "      <td>7.7</td>\n",
       "    </tr>\n",
       "  </tbody>\n",
       "</table>\n",
       "</div>"
      ],
      "text/plain": [
       "          Title Release year         Genre Duration Country         Director  \\\n",
       "84  Taxi Driver   1976-13-24  Crime, Drama      114     USA  Martin Scorsese   \n",
       "\n",
       "        Income    Votes Score  \n",
       "84  $ 28441292  703.264   7.7  "
      ]
     },
     "execution_count": 23,
     "metadata": {},
     "output_type": "execute_result"
    }
   ],
   "source": [
    "df_v2[df_v2['Release year'] == '1976-13-24']"
   ]
  },
  {
   "cell_type": "code",
   "execution_count": 24,
   "metadata": {},
   "outputs": [
    {
     "data": {
      "text/html": [
       "<div>\n",
       "<style scoped>\n",
       "    .dataframe tbody tr th:only-of-type {\n",
       "        vertical-align: middle;\n",
       "    }\n",
       "\n",
       "    .dataframe tbody tr th {\n",
       "        vertical-align: top;\n",
       "    }\n",
       "\n",
       "    .dataframe thead th {\n",
       "        text-align: right;\n",
       "    }\n",
       "</style>\n",
       "<table border=\"1\" class=\"dataframe\">\n",
       "  <thead>\n",
       "    <tr style=\"text-align: right;\">\n",
       "      <th></th>\n",
       "      <th>Title</th>\n",
       "      <th>Release year</th>\n",
       "      <th>Genre</th>\n",
       "      <th>Duration</th>\n",
       "      <th>Country</th>\n",
       "      <th>Director</th>\n",
       "      <th>Income</th>\n",
       "      <th>Votes</th>\n",
       "      <th>Score</th>\n",
       "    </tr>\n",
       "  </thead>\n",
       "  <tbody>\n",
       "    <tr>\n",
       "      <th>84</th>\n",
       "      <td>Taxi Driver</td>\n",
       "      <td>1976-02-08</td>\n",
       "      <td>Crime, Drama</td>\n",
       "      <td>114</td>\n",
       "      <td>USA</td>\n",
       "      <td>Martin Scorsese</td>\n",
       "      <td>$ 28441292</td>\n",
       "      <td>703.264</td>\n",
       "      <td>7.7</td>\n",
       "    </tr>\n",
       "  </tbody>\n",
       "</table>\n",
       "</div>"
      ],
      "text/plain": [
       "          Title Release year         Genre Duration Country         Director  \\\n",
       "84  Taxi Driver   1976-02-08  Crime, Drama      114     USA  Martin Scorsese   \n",
       "\n",
       "        Income    Votes Score  \n",
       "84  $ 28441292  703.264   7.7  "
      ]
     },
     "execution_count": 24,
     "metadata": {},
     "output_type": "execute_result"
    }
   ],
   "source": [
    "df_v2.at[84, 'Release year'] = '1976-02-08'\n",
    "df_v2[df_v2['Title'] == 'Taxi Driver']"
   ]
  },
  {
   "cell_type": "code",
   "execution_count": 25,
   "metadata": {},
   "outputs": [
    {
     "name": "stderr",
     "output_type": "stream",
     "text": [
      "C:\\Users\\Tej\\AppData\\Local\\Temp\\ipykernel_5496\\1468284595.py:1: UserWarning: Parsing '18/11/1976' in DD/MM/YYYY format. Provide format or specify infer_datetime_format=True for consistent parsing.\n",
      "  df_v2['Release year'] = pd.to_datetime(df_v2['Release year'], infer_datetime_format=True)\n"
     ]
    }
   ],
   "source": [
    "df_v2['Release year'] = pd.to_datetime(df_v2['Release year'], infer_datetime_format=True)"
   ]
  },
  {
   "cell_type": "code",
   "execution_count": 26,
   "metadata": {},
   "outputs": [
    {
     "data": {
      "text/plain": [
       "68   1984-09-28\n",
       "32   2006-10-27\n",
       "30   1955-08-19\n",
       "11   2002-01-18\n",
       "31   2000-05-19\n",
       "Name: Release year, dtype: datetime64[ns]"
      ]
     },
     "execution_count": 26,
     "metadata": {},
     "output_type": "execute_result"
    }
   ],
   "source": [
    "#Generating a few samples\n",
    "df_v2['Release year'].sample(5)"
   ]
  },
  {
   "cell_type": "code",
   "execution_count": 27,
   "metadata": {},
   "outputs": [],
   "source": [
    "#df_v2['Duration'] = pd.to_numeric(df_v2['Duration'])"
   ]
  },
  {
   "cell_type": "code",
   "execution_count": 28,
   "metadata": {},
   "outputs": [
    {
     "data": {
      "text/html": [
       "<div>\n",
       "<style scoped>\n",
       "    .dataframe tbody tr th:only-of-type {\n",
       "        vertical-align: middle;\n",
       "    }\n",
       "\n",
       "    .dataframe tbody tr th {\n",
       "        vertical-align: top;\n",
       "    }\n",
       "\n",
       "    .dataframe thead th {\n",
       "        text-align: right;\n",
       "    }\n",
       "</style>\n",
       "<table border=\"1\" class=\"dataframe\">\n",
       "  <thead>\n",
       "    <tr style=\"text-align: right;\">\n",
       "      <th></th>\n",
       "      <th>Title</th>\n",
       "      <th>Release year</th>\n",
       "      <th>Genre</th>\n",
       "      <th>Duration</th>\n",
       "      <th>Country</th>\n",
       "      <th>Director</th>\n",
       "      <th>Income</th>\n",
       "      <th>Votes</th>\n",
       "      <th>Score</th>\n",
       "    </tr>\n",
       "  </thead>\n",
       "  <tbody>\n",
       "    <tr>\n",
       "      <th>4</th>\n",
       "      <td>Pulp Fiction</td>\n",
       "      <td>1994-10-28</td>\n",
       "      <td>Crime, Drama</td>\n",
       "      <td></td>\n",
       "      <td>USA</td>\n",
       "      <td>Quentin Tarantino</td>\n",
       "      <td>$ 222831817</td>\n",
       "      <td>1.780.147</td>\n",
       "      <td>8,9f</td>\n",
       "    </tr>\n",
       "  </tbody>\n",
       "</table>\n",
       "</div>"
      ],
      "text/plain": [
       "          Title Release year         Genre Duration Country  \\\n",
       "4  Pulp Fiction   1994-10-28  Crime, Drama              USA   \n",
       "\n",
       "            Director       Income      Votes Score  \n",
       "4  Quentin Tarantino  $ 222831817  1.780.147  8,9f  "
      ]
     },
     "execution_count": 28,
     "metadata": {},
     "output_type": "execute_result"
    }
   ],
   "source": [
    "df_v2[df_v2['Duration'] == ' ']"
   ]
  },
  {
   "cell_type": "code",
   "execution_count": 29,
   "metadata": {},
   "outputs": [],
   "source": [
    "df_v2.at[4, 'Duration'] = '154'"
   ]
  },
  {
   "cell_type": "code",
   "execution_count": 30,
   "metadata": {},
   "outputs": [],
   "source": [
    "#df_v2['Duration'] = pd.to_numeric(df_v2['Duration'])"
   ]
  },
  {
   "cell_type": "code",
   "execution_count": 31,
   "metadata": {},
   "outputs": [
    {
     "data": {
      "text/html": [
       "<div>\n",
       "<style scoped>\n",
       "    .dataframe tbody tr th:only-of-type {\n",
       "        vertical-align: middle;\n",
       "    }\n",
       "\n",
       "    .dataframe tbody tr th {\n",
       "        vertical-align: top;\n",
       "    }\n",
       "\n",
       "    .dataframe thead th {\n",
       "        text-align: right;\n",
       "    }\n",
       "</style>\n",
       "<table border=\"1\" class=\"dataframe\">\n",
       "  <thead>\n",
       "    <tr style=\"text-align: right;\">\n",
       "      <th></th>\n",
       "      <th>Title</th>\n",
       "      <th>Release year</th>\n",
       "      <th>Genre</th>\n",
       "      <th>Duration</th>\n",
       "      <th>Country</th>\n",
       "      <th>Director</th>\n",
       "      <th>Income</th>\n",
       "      <th>Votes</th>\n",
       "      <th>Score</th>\n",
       "    </tr>\n",
       "  </thead>\n",
       "  <tbody>\n",
       "    <tr>\n",
       "      <th>6</th>\n",
       "      <td>Schindler's List</td>\n",
       "      <td>1994-03-11</td>\n",
       "      <td>Biography, Drama, History</td>\n",
       "      <td>Nan</td>\n",
       "      <td>USA</td>\n",
       "      <td>Steven Spielberg</td>\n",
       "      <td>$ 322287794</td>\n",
       "      <td>1.183.248</td>\n",
       "      <td>8.9</td>\n",
       "    </tr>\n",
       "  </tbody>\n",
       "</table>\n",
       "</div>"
      ],
      "text/plain": [
       "              Title Release year                      Genre Duration Country  \\\n",
       "6  Schindler's List   1994-03-11  Biography, Drama, History      Nan     USA   \n",
       "\n",
       "           Director       Income      Votes Score  \n",
       "6  Steven Spielberg  $ 322287794  1.183.248   8.9  "
      ]
     },
     "execution_count": 31,
     "metadata": {},
     "output_type": "execute_result"
    }
   ],
   "source": [
    "df_v2.loc[[6]]"
   ]
  },
  {
   "cell_type": "code",
   "execution_count": 32,
   "metadata": {},
   "outputs": [
    {
     "data": {
      "text/html": [
       "<div>\n",
       "<style scoped>\n",
       "    .dataframe tbody tr th:only-of-type {\n",
       "        vertical-align: middle;\n",
       "    }\n",
       "\n",
       "    .dataframe tbody tr th {\n",
       "        vertical-align: top;\n",
       "    }\n",
       "\n",
       "    .dataframe thead th {\n",
       "        text-align: right;\n",
       "    }\n",
       "</style>\n",
       "<table border=\"1\" class=\"dataframe\">\n",
       "  <thead>\n",
       "    <tr style=\"text-align: right;\">\n",
       "      <th></th>\n",
       "      <th>Title</th>\n",
       "      <th>Release year</th>\n",
       "      <th>Genre</th>\n",
       "      <th>Duration</th>\n",
       "      <th>Country</th>\n",
       "      <th>Director</th>\n",
       "      <th>Income</th>\n",
       "      <th>Votes</th>\n",
       "      <th>Score</th>\n",
       "    </tr>\n",
       "  </thead>\n",
       "  <tbody>\n",
       "    <tr>\n",
       "      <th>6</th>\n",
       "      <td>Schindler's List</td>\n",
       "      <td>1994-03-11</td>\n",
       "      <td>Biography, Drama, History</td>\n",
       "      <td>195</td>\n",
       "      <td>USA</td>\n",
       "      <td>Steven Spielberg</td>\n",
       "      <td>$ 322287794</td>\n",
       "      <td>1.183.248</td>\n",
       "      <td>8.9</td>\n",
       "    </tr>\n",
       "  </tbody>\n",
       "</table>\n",
       "</div>"
      ],
      "text/plain": [
       "              Title Release year                      Genre Duration Country  \\\n",
       "6  Schindler's List   1994-03-11  Biography, Drama, History      195     USA   \n",
       "\n",
       "           Director       Income      Votes Score  \n",
       "6  Steven Spielberg  $ 322287794  1.183.248   8.9  "
      ]
     },
     "execution_count": 32,
     "metadata": {},
     "output_type": "execute_result"
    }
   ],
   "source": [
    "df_v2.at[6, 'Duration'] = '195'\n",
    "df_v2.loc[[6]]"
   ]
  },
  {
   "cell_type": "code",
   "execution_count": 33,
   "metadata": {},
   "outputs": [],
   "source": [
    "#df_v2['Duration'] = pd.to_numeric(df_v2['Duration'])"
   ]
  },
  {
   "cell_type": "code",
   "execution_count": 34,
   "metadata": {},
   "outputs": [
    {
     "data": {
      "text/html": [
       "<div>\n",
       "<style scoped>\n",
       "    .dataframe tbody tr th:only-of-type {\n",
       "        vertical-align: middle;\n",
       "    }\n",
       "\n",
       "    .dataframe tbody tr th {\n",
       "        vertical-align: top;\n",
       "    }\n",
       "\n",
       "    .dataframe thead th {\n",
       "        text-align: right;\n",
       "    }\n",
       "</style>\n",
       "<table border=\"1\" class=\"dataframe\">\n",
       "  <thead>\n",
       "    <tr style=\"text-align: right;\">\n",
       "      <th></th>\n",
       "      <th>Title</th>\n",
       "      <th>Release year</th>\n",
       "      <th>Genre</th>\n",
       "      <th>Duration</th>\n",
       "      <th>Country</th>\n",
       "      <th>Director</th>\n",
       "      <th>Income</th>\n",
       "      <th>Votes</th>\n",
       "      <th>Score</th>\n",
       "    </tr>\n",
       "  </thead>\n",
       "  <tbody>\n",
       "    <tr>\n",
       "      <th>11</th>\n",
       "      <td>The Lord of the Rings: The Fellowship of the Ring</td>\n",
       "      <td>2002-01-18</td>\n",
       "      <td>Action, Adventure, Drama</td>\n",
       "      <td>178c</td>\n",
       "      <td>New Zesland</td>\n",
       "      <td>Peter Jackson</td>\n",
       "      <td>$ 887934303</td>\n",
       "      <td>1.619.920</td>\n",
       "      <td>8.8</td>\n",
       "    </tr>\n",
       "  </tbody>\n",
       "</table>\n",
       "</div>"
      ],
      "text/plain": [
       "                                                Title Release year  \\\n",
       "11  The Lord of the Rings: The Fellowship of the Ring   2002-01-18   \n",
       "\n",
       "                       Genre Duration      Country       Director  \\\n",
       "11  Action, Adventure, Drama     178c  New Zesland  Peter Jackson   \n",
       "\n",
       "         Income      Votes Score  \n",
       "11  $ 887934303  1.619.920   8.8  "
      ]
     },
     "execution_count": 34,
     "metadata": {},
     "output_type": "execute_result"
    }
   ],
   "source": [
    "df_v2.loc[[11]]"
   ]
  },
  {
   "cell_type": "code",
   "execution_count": 35,
   "metadata": {},
   "outputs": [
    {
     "data": {
      "text/html": [
       "<div>\n",
       "<style scoped>\n",
       "    .dataframe tbody tr th:only-of-type {\n",
       "        vertical-align: middle;\n",
       "    }\n",
       "\n",
       "    .dataframe tbody tr th {\n",
       "        vertical-align: top;\n",
       "    }\n",
       "\n",
       "    .dataframe thead th {\n",
       "        text-align: right;\n",
       "    }\n",
       "</style>\n",
       "<table border=\"1\" class=\"dataframe\">\n",
       "  <thead>\n",
       "    <tr style=\"text-align: right;\">\n",
       "      <th></th>\n",
       "      <th>Title</th>\n",
       "      <th>Release year</th>\n",
       "      <th>Genre</th>\n",
       "      <th>Duration</th>\n",
       "      <th>Country</th>\n",
       "      <th>Director</th>\n",
       "      <th>Income</th>\n",
       "      <th>Votes</th>\n",
       "      <th>Score</th>\n",
       "    </tr>\n",
       "  </thead>\n",
       "  <tbody>\n",
       "    <tr>\n",
       "      <th>11</th>\n",
       "      <td>The Lord of the Rings: The Fellowship of the Ring</td>\n",
       "      <td>2002-01-18</td>\n",
       "      <td>Action, Adventure, Drama</td>\n",
       "      <td>178</td>\n",
       "      <td>New Zesland</td>\n",
       "      <td>Peter Jackson</td>\n",
       "      <td>$ 887934303</td>\n",
       "      <td>1.619.920</td>\n",
       "      <td>8.8</td>\n",
       "    </tr>\n",
       "  </tbody>\n",
       "</table>\n",
       "</div>"
      ],
      "text/plain": [
       "                                                Title Release year  \\\n",
       "11  The Lord of the Rings: The Fellowship of the Ring   2002-01-18   \n",
       "\n",
       "                       Genre Duration      Country       Director  \\\n",
       "11  Action, Adventure, Drama      178  New Zesland  Peter Jackson   \n",
       "\n",
       "         Income      Votes Score  \n",
       "11  $ 887934303  1.619.920   8.8  "
      ]
     },
     "execution_count": 35,
     "metadata": {},
     "output_type": "execute_result"
    }
   ],
   "source": [
    "df_v2.at[11, 'Duration'] = '178'\n",
    "df_v2.loc[[11]]"
   ]
  },
  {
   "cell_type": "code",
   "execution_count": 36,
   "metadata": {},
   "outputs": [
    {
     "data": {
      "text/html": [
       "<div>\n",
       "<style scoped>\n",
       "    .dataframe tbody tr th:only-of-type {\n",
       "        vertical-align: middle;\n",
       "    }\n",
       "\n",
       "    .dataframe tbody tr th {\n",
       "        vertical-align: top;\n",
       "    }\n",
       "\n",
       "    .dataframe thead th {\n",
       "        text-align: right;\n",
       "    }\n",
       "</style>\n",
       "<table border=\"1\" class=\"dataframe\">\n",
       "  <thead>\n",
       "    <tr style=\"text-align: right;\">\n",
       "      <th></th>\n",
       "      <th>Title</th>\n",
       "      <th>Release year</th>\n",
       "      <th>Genre</th>\n",
       "      <th>Duration</th>\n",
       "      <th>Country</th>\n",
       "      <th>Director</th>\n",
       "      <th>Income</th>\n",
       "      <th>Votes</th>\n",
       "      <th>Score</th>\n",
       "    </tr>\n",
       "  </thead>\n",
       "  <tbody>\n",
       "    <tr>\n",
       "      <th>16</th>\n",
       "      <td>Star Wars: Episode V - The Empire Strikes Back</td>\n",
       "      <td>1980-09-19</td>\n",
       "      <td>Action, Adventure, Fantasy</td>\n",
       "      <td>Not Applicable</td>\n",
       "      <td>USA</td>\n",
       "      <td>Irvin Kershner</td>\n",
       "      <td>$ 549265501</td>\n",
       "      <td>1.132.073</td>\n",
       "      <td>8,7e-0</td>\n",
       "    </tr>\n",
       "  </tbody>\n",
       "</table>\n",
       "</div>"
      ],
      "text/plain": [
       "                                             Title Release year  \\\n",
       "16  Star Wars: Episode V - The Empire Strikes Back   1980-09-19   \n",
       "\n",
       "                         Genre        Duration Country        Director  \\\n",
       "16  Action, Adventure, Fantasy  Not Applicable     USA  Irvin Kershner   \n",
       "\n",
       "         Income      Votes   Score  \n",
       "16  $ 549265501  1.132.073  8,7e-0  "
      ]
     },
     "execution_count": 36,
     "metadata": {},
     "output_type": "execute_result"
    }
   ],
   "source": [
    "df_v2.loc[[16]]"
   ]
  },
  {
   "cell_type": "code",
   "execution_count": 37,
   "metadata": {},
   "outputs": [
    {
     "data": {
      "text/html": [
       "<div>\n",
       "<style scoped>\n",
       "    .dataframe tbody tr th:only-of-type {\n",
       "        vertical-align: middle;\n",
       "    }\n",
       "\n",
       "    .dataframe tbody tr th {\n",
       "        vertical-align: top;\n",
       "    }\n",
       "\n",
       "    .dataframe thead th {\n",
       "        text-align: right;\n",
       "    }\n",
       "</style>\n",
       "<table border=\"1\" class=\"dataframe\">\n",
       "  <thead>\n",
       "    <tr style=\"text-align: right;\">\n",
       "      <th></th>\n",
       "      <th>Title</th>\n",
       "      <th>Release year</th>\n",
       "      <th>Genre</th>\n",
       "      <th>Duration</th>\n",
       "      <th>Country</th>\n",
       "      <th>Director</th>\n",
       "      <th>Income</th>\n",
       "      <th>Votes</th>\n",
       "      <th>Score</th>\n",
       "    </tr>\n",
       "  </thead>\n",
       "  <tbody>\n",
       "    <tr>\n",
       "      <th>16</th>\n",
       "      <td>Star Wars: Episode V - The Empire Strikes Back</td>\n",
       "      <td>1980-09-19</td>\n",
       "      <td>Action, Adventure, Fantasy</td>\n",
       "      <td>124</td>\n",
       "      <td>USA</td>\n",
       "      <td>Irvin Kershner</td>\n",
       "      <td>$ 549265501</td>\n",
       "      <td>1.132.073</td>\n",
       "      <td>8,7e-0</td>\n",
       "    </tr>\n",
       "  </tbody>\n",
       "</table>\n",
       "</div>"
      ],
      "text/plain": [
       "                                             Title Release year  \\\n",
       "16  Star Wars: Episode V - The Empire Strikes Back   1980-09-19   \n",
       "\n",
       "                         Genre Duration Country        Director       Income  \\\n",
       "16  Action, Adventure, Fantasy      124     USA  Irvin Kershner  $ 549265501   \n",
       "\n",
       "        Votes   Score  \n",
       "16  1.132.073  8,7e-0  "
      ]
     },
     "execution_count": 37,
     "metadata": {},
     "output_type": "execute_result"
    }
   ],
   "source": [
    "df_v2.at[16, 'Duration'] = '124'\n",
    "df_v2.loc[[16]]"
   ]
  },
  {
   "cell_type": "code",
   "execution_count": 38,
   "metadata": {},
   "outputs": [],
   "source": [
    "#df_v2['Duration'] = pd.to_numeric(df_v2['Duration'])"
   ]
  },
  {
   "cell_type": "markdown",
   "metadata": {},
   "source": [
    "I'm only at postion 17 and am getting endless errors. I searched for a way to find every faulty entry."
   ]
  },
  {
   "cell_type": "code",
   "execution_count": 39,
   "metadata": {},
   "outputs": [],
   "source": [
    "df_undur = df_v2['Duration'].unique()"
   ]
  },
  {
   "cell_type": "code",
   "execution_count": 40,
   "metadata": {},
   "outputs": [
    {
     "name": "stdout",
     "output_type": "stream",
     "text": [
      "['-', '102', '103', '104', '105', '106', '108', '109', '110', '112', '113', '114', '115', '116', '117', '118', '119', '120', '121', '122', '123', '124', '125', '126', '127', '128', '129', '130', '131', '132', '134', '136', '137', '142', '146', '147', '148', '149', '150', '151', '152', '153', '154', '155', '160', '161', '164', '165', '169', '170', '175', '178', '179', '181', '189', '195', '201', '207', '220', '228', '229', '81', '87', '88', '89', '95', '96', '98', '99', 'Inf']\n"
     ]
    }
   ],
   "source": [
    "print(sorted(df_undur))"
   ]
  },
  {
   "cell_type": "code",
   "execution_count": 41,
   "metadata": {},
   "outputs": [
    {
     "data": {
      "text/html": [
       "<div>\n",
       "<style scoped>\n",
       "    .dataframe tbody tr th:only-of-type {\n",
       "        vertical-align: middle;\n",
       "    }\n",
       "\n",
       "    .dataframe tbody tr th {\n",
       "        vertical-align: top;\n",
       "    }\n",
       "\n",
       "    .dataframe thead th {\n",
       "        text-align: right;\n",
       "    }\n",
       "</style>\n",
       "<table border=\"1\" class=\"dataframe\">\n",
       "  <thead>\n",
       "    <tr style=\"text-align: right;\">\n",
       "      <th></th>\n",
       "      <th>Title</th>\n",
       "      <th>Release year</th>\n",
       "      <th>Genre</th>\n",
       "      <th>Duration</th>\n",
       "      <th>Country</th>\n",
       "      <th>Director</th>\n",
       "      <th>Income</th>\n",
       "      <th>Votes</th>\n",
       "      <th>Score</th>\n",
       "    </tr>\n",
       "  </thead>\n",
       "  <tbody>\n",
       "    <tr>\n",
       "      <th>9</th>\n",
       "      <td>Fight Club</td>\n",
       "      <td>1999-10-29</td>\n",
       "      <td>Drama</td>\n",
       "      <td>Inf</td>\n",
       "      <td>UK</td>\n",
       "      <td>David Fincher</td>\n",
       "      <td>$ 101218804</td>\n",
       "      <td>1.807.440</td>\n",
       "      <td>8.8</td>\n",
       "    </tr>\n",
       "    <tr>\n",
       "      <th>18</th>\n",
       "      <td>One Flew Over the Cuckoo's Nest</td>\n",
       "      <td>1976-11-18</td>\n",
       "      <td>Drama</td>\n",
       "      <td>-</td>\n",
       "      <td>USA</td>\n",
       "      <td>Milos Forman</td>\n",
       "      <td>$ 108997629</td>\n",
       "      <td>891.071</td>\n",
       "      <td>8.7</td>\n",
       "    </tr>\n",
       "  </tbody>\n",
       "</table>\n",
       "</div>"
      ],
      "text/plain": [
       "                              Title Release year  Genre Duration Country  \\\n",
       "9                        Fight Club   1999-10-29  Drama      Inf      UK   \n",
       "18  One Flew Over the Cuckoo's Nest   1976-11-18  Drama        -     USA   \n",
       "\n",
       "         Director       Income      Votes Score  \n",
       "9   David Fincher  $ 101218804  1.807.440   8.8  \n",
       "18   Milos Forman  $ 108997629    891.071   8.7  "
      ]
     },
     "execution_count": 41,
     "metadata": {},
     "output_type": "execute_result"
    }
   ],
   "source": [
    "df_v2[(df_v2['Duration'] == '-') | (df_v2['Duration'] == 'Inf')]"
   ]
  },
  {
   "cell_type": "code",
   "execution_count": 42,
   "metadata": {},
   "outputs": [
    {
     "data": {
      "text/html": [
       "<div>\n",
       "<style scoped>\n",
       "    .dataframe tbody tr th:only-of-type {\n",
       "        vertical-align: middle;\n",
       "    }\n",
       "\n",
       "    .dataframe tbody tr th {\n",
       "        vertical-align: top;\n",
       "    }\n",
       "\n",
       "    .dataframe thead th {\n",
       "        text-align: right;\n",
       "    }\n",
       "</style>\n",
       "<table border=\"1\" class=\"dataframe\">\n",
       "  <thead>\n",
       "    <tr style=\"text-align: right;\">\n",
       "      <th></th>\n",
       "      <th>Title</th>\n",
       "      <th>Release year</th>\n",
       "      <th>Genre</th>\n",
       "      <th>Duration</th>\n",
       "      <th>Country</th>\n",
       "      <th>Director</th>\n",
       "      <th>Income</th>\n",
       "      <th>Votes</th>\n",
       "      <th>Score</th>\n",
       "    </tr>\n",
       "  </thead>\n",
       "  <tbody>\n",
       "    <tr>\n",
       "      <th>9</th>\n",
       "      <td>Fight Club</td>\n",
       "      <td>1999-10-29</td>\n",
       "      <td>Drama</td>\n",
       "      <td>139</td>\n",
       "      <td>UK</td>\n",
       "      <td>David Fincher</td>\n",
       "      <td>$ 101218804</td>\n",
       "      <td>1.807.440</td>\n",
       "      <td>8.8</td>\n",
       "    </tr>\n",
       "    <tr>\n",
       "      <th>18</th>\n",
       "      <td>One Flew Over the Cuckoo's Nest</td>\n",
       "      <td>1976-11-18</td>\n",
       "      <td>Drama</td>\n",
       "      <td>133</td>\n",
       "      <td>USA</td>\n",
       "      <td>Milos Forman</td>\n",
       "      <td>$ 108997629</td>\n",
       "      <td>891.071</td>\n",
       "      <td>8.7</td>\n",
       "    </tr>\n",
       "  </tbody>\n",
       "</table>\n",
       "</div>"
      ],
      "text/plain": [
       "                              Title Release year  Genre Duration Country  \\\n",
       "9                        Fight Club   1999-10-29  Drama      139      UK   \n",
       "18  One Flew Over the Cuckoo's Nest   1976-11-18  Drama      133     USA   \n",
       "\n",
       "         Director       Income      Votes Score  \n",
       "9   David Fincher  $ 101218804  1.807.440   8.8  \n",
       "18   Milos Forman  $ 108997629    891.071   8.7  "
      ]
     },
     "execution_count": 42,
     "metadata": {},
     "output_type": "execute_result"
    }
   ],
   "source": [
    "df_v2.at[9, 'Duration'] = '139'\n",
    "df_v2.at[18, 'Duration'] = '133'\n",
    "df_v2.loc[[9,18]]"
   ]
  },
  {
   "cell_type": "code",
   "execution_count": 43,
   "metadata": {},
   "outputs": [],
   "source": [
    "df_v2['Duration'] = pd.to_numeric(df_v2['Duration'])"
   ]
  },
  {
   "cell_type": "code",
   "execution_count": 44,
   "metadata": {},
   "outputs": [
    {
     "data": {
      "text/plain": [
       "Title                   object\n",
       "Release year    datetime64[ns]\n",
       "Genre                   object\n",
       "Duration                 int64\n",
       "Country                 object\n",
       "Director                object\n",
       "Income                  object\n",
       "Votes                   object\n",
       "Score                   object\n",
       "dtype: object"
      ]
     },
     "execution_count": 44,
     "metadata": {},
     "output_type": "execute_result"
    }
   ],
   "source": [
    "df_v2.dtypes"
   ]
  },
  {
   "cell_type": "code",
   "execution_count": 45,
   "metadata": {},
   "outputs": [
    {
     "name": "stdout",
     "output_type": "stream",
     "text": [
      "['Brazil', 'Denmark', 'France', 'Germany', 'India', 'Iran', 'Italy', 'Italy1', 'Japan', 'New Zealand', 'New Zeland', 'New Zesland', 'South Korea', 'UK', 'US', 'US.', 'USA', 'West Germany']\n"
     ]
    }
   ],
   "source": [
    "df_countries = df_v2['Country'].unique()\n",
    "print(sorted(df_countries))"
   ]
  },
  {
   "cell_type": "code",
   "execution_count": 46,
   "metadata": {},
   "outputs": [
    {
     "data": {
      "text/plain": [
       "array(['USA', 'New Zealand', 'UK', 'Italy', 'Brazil', 'Japan',\n",
       "       'South Korea', 'France', 'Germany', 'India', 'Denmark',\n",
       "       'West Germany', 'Iran'], dtype=object)"
      ]
     },
     "execution_count": 46,
     "metadata": {},
     "output_type": "execute_result"
    }
   ],
   "source": [
    "df_v2['Country'] = df_v2['Country'].replace(['US', 'US.', 'Italy1', 'New Zeland', 'New Zesland'],['USA','USA','Italy','New Zealand', 'New Zealand'])\n",
    "df_v2['Country'].unique()"
   ]
  },
  {
   "cell_type": "code",
   "execution_count": 47,
   "metadata": {},
   "outputs": [
    {
     "data": {
      "text/plain": [
       "array(['Frank Darabont', 'Francis Ford Coppola', 'Christopher Nolan',\n",
       "       'Quentin Tarantino', 'Peter Jackson', 'Steven Spielberg',\n",
       "       'Sidney Lumet', 'David Fincher', 'Robert Zemeckis', 'Sergio Leone',\n",
       "       'Lana Wachowski, Lilly Wachowski', 'Irvin Kershner',\n",
       "       'Martin Scorsese', 'Milos Forman', 'Jonathan Demme',\n",
       "       'George Lucas', 'Fernando Meirelles, KÃ¡tia Lund',\n",
       "       'Hayao Miyazaki', 'Roberto Benigni', 'Bong Joon Ho', 'Frank Capra',\n",
       "       'Akira Kurosawa', 'Ridley Scott', 'Tony Kaye', 'Luc Besson',\n",
       "       'James Cameron', 'Bryan Singer', 'Roger Allers, Rob Minkoff',\n",
       "       'Todd Phillips', 'Olivier Nakache, Ã\\x89ric Toledano',\n",
       "       'Roman Polanski', 'Damien Chazelle', 'Alfred Hitchcock',\n",
       "       'Michael Curtiz', 'Isao Takahata', 'Giuseppe Tornatore',\n",
       "       'Charles Chaplin', 'Andrew Stanton', 'Stanley Kubrick',\n",
       "       'Anthony Russo, Joe Russo', 'Chan-wook Park',\n",
       "       'Lee Unkrich, Adrian Molina', 'Florian Henckel von Donnersmarck',\n",
       "       'Bob Persichetti, Peter Ramsey', 'Rajkumar Hirani', 'Billy Wilder',\n",
       "       'Sam Mendes', 'Mel Gibson', 'Richard Marquand', 'Michel Gondry',\n",
       "       'John Lasseter', 'Gus Van Sant', 'Guy Ritchie', 'Darren Aronofsky',\n",
       "       'Lee Unkrich', 'Brian De Palma', 'Jean-Pierre Jeunet',\n",
       "       'Orson Welles', 'Thomas Vinterberg', 'David Lean',\n",
       "       'George Roy Hill', 'Wolfgang Petersen', 'Asghar Farhadi',\n",
       "       'Stanley Donen'], dtype=object)"
      ]
     },
     "execution_count": 47,
     "metadata": {},
     "output_type": "execute_result"
    }
   ],
   "source": [
    "df_v2['Director'].unique()"
   ]
  },
  {
   "cell_type": "markdown",
   "metadata": {},
   "source": [
    "Going through every column, I will try to correct errors just for the sake of having a clean dataframe."
   ]
  },
  {
   "cell_type": "code",
   "execution_count": 48,
   "metadata": {},
   "outputs": [
    {
     "data": {
      "text/html": [
       "<div>\n",
       "<style scoped>\n",
       "    .dataframe tbody tr th:only-of-type {\n",
       "        vertical-align: middle;\n",
       "    }\n",
       "\n",
       "    .dataframe tbody tr th {\n",
       "        vertical-align: top;\n",
       "    }\n",
       "\n",
       "    .dataframe thead th {\n",
       "        text-align: right;\n",
       "    }\n",
       "</style>\n",
       "<table border=\"1\" class=\"dataframe\">\n",
       "  <thead>\n",
       "    <tr style=\"text-align: right;\">\n",
       "      <th></th>\n",
       "      <th>Title</th>\n",
       "      <th>Release year</th>\n",
       "      <th>Genre</th>\n",
       "      <th>Duration</th>\n",
       "      <th>Country</th>\n",
       "      <th>Director</th>\n",
       "      <th>Income</th>\n",
       "      <th>Votes</th>\n",
       "      <th>Score</th>\n",
       "    </tr>\n",
       "  </thead>\n",
       "  <tbody>\n",
       "    <tr>\n",
       "      <th>25</th>\n",
       "      <td>Cidade de Deus</td>\n",
       "      <td>2003-05-09</td>\n",
       "      <td>Crime, Drama</td>\n",
       "      <td>130</td>\n",
       "      <td>Brazil</td>\n",
       "      <td>Fernando Meirelles, KÃ¡tia Lund</td>\n",
       "      <td>$ 30680793</td>\n",
       "      <td>685.856</td>\n",
       "      <td>8.6</td>\n",
       "    </tr>\n",
       "    <tr>\n",
       "      <th>41</th>\n",
       "      <td>Intouchables</td>\n",
       "      <td>2012-02-24</td>\n",
       "      <td>Biography, Comedy, Drama</td>\n",
       "      <td>112</td>\n",
       "      <td>France</td>\n",
       "      <td>Olivier Nakache, Ãric Toledano</td>\n",
       "      <td>$ 426588510</td>\n",
       "      <td>736.691</td>\n",
       "      <td>8.4</td>\n",
       "    </tr>\n",
       "  </tbody>\n",
       "</table>\n",
       "</div>"
      ],
      "text/plain": [
       "             Title Release year                     Genre  Duration Country  \\\n",
       "25  Cidade de Deus   2003-05-09              Crime, Drama       130  Brazil   \n",
       "41    Intouchables   2012-02-24  Biography, Comedy, Drama       112  France   \n",
       "\n",
       "                           Director       Income    Votes Score  \n",
       "25  Fernando Meirelles, KÃ¡tia Lund   $ 30680793  685.856   8.6  \n",
       "41  Olivier Nakache, Ãric Toledano  $ 426588510  736.691   8.4  "
      ]
     },
     "execution_count": 48,
     "metadata": {},
     "output_type": "execute_result"
    }
   ],
   "source": [
    "df_v2[(df_v2['Director'].str.contains(\"Lund\") | (df_v2['Director'].str.contains(\"Toledano\")))]"
   ]
  },
  {
   "cell_type": "code",
   "execution_count": 49,
   "metadata": {},
   "outputs": [
    {
     "data": {
      "text/html": [
       "<div>\n",
       "<style scoped>\n",
       "    .dataframe tbody tr th:only-of-type {\n",
       "        vertical-align: middle;\n",
       "    }\n",
       "\n",
       "    .dataframe tbody tr th {\n",
       "        vertical-align: top;\n",
       "    }\n",
       "\n",
       "    .dataframe thead th {\n",
       "        text-align: right;\n",
       "    }\n",
       "</style>\n",
       "<table border=\"1\" class=\"dataframe\">\n",
       "  <thead>\n",
       "    <tr style=\"text-align: right;\">\n",
       "      <th></th>\n",
       "      <th>Title</th>\n",
       "      <th>Release year</th>\n",
       "      <th>Genre</th>\n",
       "      <th>Duration</th>\n",
       "      <th>Country</th>\n",
       "      <th>Director</th>\n",
       "      <th>Income</th>\n",
       "      <th>Votes</th>\n",
       "      <th>Score</th>\n",
       "    </tr>\n",
       "  </thead>\n",
       "  <tbody>\n",
       "    <tr>\n",
       "      <th>25</th>\n",
       "      <td>Cidade de Deus</td>\n",
       "      <td>2003-05-09</td>\n",
       "      <td>Crime, Drama</td>\n",
       "      <td>130</td>\n",
       "      <td>Brazil</td>\n",
       "      <td>Fernando Meirelles, Kátia Lund</td>\n",
       "      <td>$ 30680793</td>\n",
       "      <td>685.856</td>\n",
       "      <td>8.6</td>\n",
       "    </tr>\n",
       "    <tr>\n",
       "      <th>41</th>\n",
       "      <td>Intouchables</td>\n",
       "      <td>2012-02-24</td>\n",
       "      <td>Biography, Comedy, Drama</td>\n",
       "      <td>112</td>\n",
       "      <td>France</td>\n",
       "      <td>Olivier Nakache, Éric Toledano</td>\n",
       "      <td>$ 426588510</td>\n",
       "      <td>736.691</td>\n",
       "      <td>8.4</td>\n",
       "    </tr>\n",
       "  </tbody>\n",
       "</table>\n",
       "</div>"
      ],
      "text/plain": [
       "             Title Release year                     Genre  Duration Country  \\\n",
       "25  Cidade de Deus   2003-05-09              Crime, Drama       130  Brazil   \n",
       "41    Intouchables   2012-02-24  Biography, Comedy, Drama       112  France   \n",
       "\n",
       "                          Director       Income    Votes Score  \n",
       "25  Fernando Meirelles, Kátia Lund   $ 30680793  685.856   8.6  \n",
       "41  Olivier Nakache, Éric Toledano  $ 426588510  736.691   8.4  "
      ]
     },
     "execution_count": 49,
     "metadata": {},
     "output_type": "execute_result"
    }
   ],
   "source": [
    "df_v2.at[25, 'Director'] = 'Fernando Meirelles, Kátia Lund'\n",
    "df_v2.at[41, 'Director'] = 'Olivier Nakache, Éric Toledano'\n",
    "df_v2.loc[[25,41]]"
   ]
  },
  {
   "cell_type": "code",
   "execution_count": 50,
   "metadata": {},
   "outputs": [],
   "source": [
    "df_v2['Income'] = df_v2['Income'].str.replace('$', '', regex=True)\n",
    "df_v2['Income'] = df_v2['Income'].str.replace(',', '', regex=True)\n",
    "df_v2['Income'] = df_v2['Income'].str.replace('o', '', regex=True)"
   ]
  },
  {
   "cell_type": "code",
   "execution_count": 51,
   "metadata": {},
   "outputs": [
    {
     "data": {
      "text/plain": [
       "Title                   object\n",
       "Release year    datetime64[ns]\n",
       "Genre                   object\n",
       "Duration                 int64\n",
       "Country                 object\n",
       "Director                object\n",
       "Income                   int64\n",
       "Votes                   object\n",
       "Score                   object\n",
       "dtype: object"
      ]
     },
     "execution_count": 51,
     "metadata": {},
     "output_type": "execute_result"
    }
   ],
   "source": [
    "df_v2['Income'] = pd.to_numeric(df_v2['Income'])\n",
    "df_v2.dtypes"
   ]
  },
  {
   "cell_type": "code",
   "execution_count": 52,
   "metadata": {},
   "outputs": [],
   "source": [
    "df_v2['Votes'] = df_v2['Votes'].str.replace('.', '', regex=True)\n",
    "df_v2['Votes'] = df_v2['Votes'].str.replace(',', '', regex=True)"
   ]
  },
  {
   "cell_type": "code",
   "execution_count": 53,
   "metadata": {},
   "outputs": [],
   "source": [
    "df_v2['Votes'] = pd.to_numeric(df_v2['Votes'])"
   ]
  },
  {
   "cell_type": "code",
   "execution_count": 54,
   "metadata": {},
   "outputs": [
    {
     "data": {
      "text/plain": [
       "array(['9.3', '9.2', '9.', '9,.0', '8,9f', '08.9', '8.9', '8..8', '8.8',\n",
       "       '8:8', '++8.7', '8.7.', '8,7e-0', '8.7', '8.6', '8,6', '8.5',\n",
       "       '8.4', '8.3', '8.2', '8.1', '8.0', '7.9', '7.8', '7.7', '7.6',\n",
       "       '7.5', '7.4'], dtype=object)"
      ]
     },
     "execution_count": 54,
     "metadata": {},
     "output_type": "execute_result"
    }
   ],
   "source": [
    "df_v2['Score'].unique()"
   ]
  },
  {
   "cell_type": "code",
   "execution_count": 55,
   "metadata": {},
   "outputs": [],
   "source": [
    "# Might be a bit babaric\n",
    "df_v2['Score'] = df_v2['Score'].str.replace(',', '', regex=True)\n",
    "df_v2['Score'] = df_v2['Score'].str.replace('.', '', regex=True)\n",
    "df_v2['Score'] = df_v2['Score'].str.replace(':', '', regex=True)\n",
    "df_v2['Score'] = df_v2['Score'].str.replace('+', '', regex=True)\n",
    "df_v2['Score'] = df_v2['Score'].str.replace('f', '', regex=True)"
   ]
  },
  {
   "cell_type": "code",
   "execution_count": 56,
   "metadata": {},
   "outputs": [
    {
     "data": {
      "text/html": [
       "<div>\n",
       "<style scoped>\n",
       "    .dataframe tbody tr th:only-of-type {\n",
       "        vertical-align: middle;\n",
       "    }\n",
       "\n",
       "    .dataframe tbody tr th {\n",
       "        vertical-align: top;\n",
       "    }\n",
       "\n",
       "    .dataframe thead th {\n",
       "        text-align: right;\n",
       "    }\n",
       "</style>\n",
       "<table border=\"1\" class=\"dataframe\">\n",
       "  <thead>\n",
       "    <tr style=\"text-align: right;\">\n",
       "      <th></th>\n",
       "      <th>Title</th>\n",
       "      <th>Release year</th>\n",
       "      <th>Genre</th>\n",
       "      <th>Duration</th>\n",
       "      <th>Country</th>\n",
       "      <th>Director</th>\n",
       "      <th>Income</th>\n",
       "      <th>Votes</th>\n",
       "      <th>Score</th>\n",
       "    </tr>\n",
       "  </thead>\n",
       "  <tbody>\n",
       "    <tr>\n",
       "      <th>5</th>\n",
       "      <td>The Lord of the Rings: The Return of the King</td>\n",
       "      <td>2004-02-22</td>\n",
       "      <td>Action, Adventure, Drama</td>\n",
       "      <td>201</td>\n",
       "      <td>New Zealand</td>\n",
       "      <td>Peter Jackson</td>\n",
       "      <td>1142271098</td>\n",
       "      <td>1604280</td>\n",
       "      <td>089</td>\n",
       "    </tr>\n",
       "    <tr>\n",
       "      <th>16</th>\n",
       "      <td>Star Wars: Episode V - The Empire Strikes Back</td>\n",
       "      <td>1980-09-19</td>\n",
       "      <td>Action, Adventure, Fantasy</td>\n",
       "      <td>124</td>\n",
       "      <td>USA</td>\n",
       "      <td>Irvin Kershner</td>\n",
       "      <td>549265501</td>\n",
       "      <td>1132073</td>\n",
       "      <td>87e-0</td>\n",
       "    </tr>\n",
       "  </tbody>\n",
       "</table>\n",
       "</div>"
      ],
      "text/plain": [
       "                                             Title Release year  \\\n",
       "5    The Lord of the Rings: The Return of the King   2004-02-22   \n",
       "16  Star Wars: Episode V - The Empire Strikes Back   1980-09-19   \n",
       "\n",
       "                         Genre  Duration      Country        Director  \\\n",
       "5     Action, Adventure, Drama       201  New Zealand   Peter Jackson   \n",
       "16  Action, Adventure, Fantasy       124          USA  Irvin Kershner   \n",
       "\n",
       "        Income    Votes  Score  \n",
       "5   1142271098  1604280    089  \n",
       "16   549265501  1132073  87e-0  "
      ]
     },
     "execution_count": 56,
     "metadata": {},
     "output_type": "execute_result"
    }
   ],
   "source": [
    "df_v2[(df_v2['Score'].str.contains(\"089\") | (df_v2['Score'].str.contains(\"e\")))]"
   ]
  },
  {
   "cell_type": "code",
   "execution_count": 57,
   "metadata": {},
   "outputs": [
    {
     "data": {
      "text/html": [
       "<div>\n",
       "<style scoped>\n",
       "    .dataframe tbody tr th:only-of-type {\n",
       "        vertical-align: middle;\n",
       "    }\n",
       "\n",
       "    .dataframe tbody tr th {\n",
       "        vertical-align: top;\n",
       "    }\n",
       "\n",
       "    .dataframe thead th {\n",
       "        text-align: right;\n",
       "    }\n",
       "</style>\n",
       "<table border=\"1\" class=\"dataframe\">\n",
       "  <thead>\n",
       "    <tr style=\"text-align: right;\">\n",
       "      <th></th>\n",
       "      <th>Title</th>\n",
       "      <th>Release year</th>\n",
       "      <th>Genre</th>\n",
       "      <th>Duration</th>\n",
       "      <th>Country</th>\n",
       "      <th>Director</th>\n",
       "      <th>Income</th>\n",
       "      <th>Votes</th>\n",
       "      <th>Score</th>\n",
       "    </tr>\n",
       "  </thead>\n",
       "  <tbody>\n",
       "    <tr>\n",
       "      <th>5</th>\n",
       "      <td>The Lord of the Rings: The Return of the King</td>\n",
       "      <td>2004-02-22</td>\n",
       "      <td>Action, Adventure, Drama</td>\n",
       "      <td>201</td>\n",
       "      <td>New Zealand</td>\n",
       "      <td>Peter Jackson</td>\n",
       "      <td>1142271098</td>\n",
       "      <td>1604280</td>\n",
       "      <td>89</td>\n",
       "    </tr>\n",
       "    <tr>\n",
       "      <th>16</th>\n",
       "      <td>Star Wars: Episode V - The Empire Strikes Back</td>\n",
       "      <td>1980-09-19</td>\n",
       "      <td>Action, Adventure, Fantasy</td>\n",
       "      <td>124</td>\n",
       "      <td>USA</td>\n",
       "      <td>Irvin Kershner</td>\n",
       "      <td>549265501</td>\n",
       "      <td>1132073</td>\n",
       "      <td>87</td>\n",
       "    </tr>\n",
       "    <tr>\n",
       "      <th>2</th>\n",
       "      <td>The Dark Knight</td>\n",
       "      <td>2008-07-23</td>\n",
       "      <td>Action, Crime, Drama</td>\n",
       "      <td>152</td>\n",
       "      <td>USA</td>\n",
       "      <td>Christopher Nolan</td>\n",
       "      <td>1005455211</td>\n",
       "      <td>2241615</td>\n",
       "      <td>90</td>\n",
       "    </tr>\n",
       "  </tbody>\n",
       "</table>\n",
       "</div>"
      ],
      "text/plain": [
       "                                             Title Release year  \\\n",
       "5    The Lord of the Rings: The Return of the King   2004-02-22   \n",
       "16  Star Wars: Episode V - The Empire Strikes Back   1980-09-19   \n",
       "2                                  The Dark Knight   2008-07-23   \n",
       "\n",
       "                         Genre  Duration      Country           Director  \\\n",
       "5     Action, Adventure, Drama       201  New Zealand      Peter Jackson   \n",
       "16  Action, Adventure, Fantasy       124          USA     Irvin Kershner   \n",
       "2         Action, Crime, Drama       152          USA  Christopher Nolan   \n",
       "\n",
       "        Income    Votes Score  \n",
       "5   1142271098  1604280    89  \n",
       "16   549265501  1132073    87  \n",
       "2   1005455211  2241615    90  "
      ]
     },
     "execution_count": 57,
     "metadata": {},
     "output_type": "execute_result"
    }
   ],
   "source": [
    "df_v2.at[5, 'Score'] = '89'\n",
    "df_v2.at[16, 'Score'] = '87'\n",
    "df_v2.at[2, 'Score'] = '90'\n",
    "df_v2.loc[[5,16,2]]"
   ]
  },
  {
   "cell_type": "code",
   "execution_count": 58,
   "metadata": {},
   "outputs": [],
   "source": [
    "df_v2['Score'] = df_v2['Score'].astype(int)"
   ]
  },
  {
   "cell_type": "code",
   "execution_count": 59,
   "metadata": {},
   "outputs": [
    {
     "data": {
      "text/plain": [
       "44    83\n",
       "4     89\n",
       "85    77\n",
       "56    82\n",
       "28    86\n",
       "62    81\n",
       "76    79\n",
       "11    88\n",
       "90    76\n",
       "66    81\n",
       "95    75\n",
       "45    83\n",
       "6     89\n",
       "77    79\n",
       "40    84\n",
       "Name: Score, dtype: int32"
      ]
     },
     "execution_count": 59,
     "metadata": {},
     "output_type": "execute_result"
    }
   ],
   "source": [
    "df_v2['Score'].sample(15)"
   ]
  },
  {
   "cell_type": "code",
   "execution_count": 60,
   "metadata": {},
   "outputs": [
    {
     "data": {
      "text/html": [
       "<div>\n",
       "<style scoped>\n",
       "    .dataframe tbody tr th:only-of-type {\n",
       "        vertical-align: middle;\n",
       "    }\n",
       "\n",
       "    .dataframe tbody tr th {\n",
       "        vertical-align: top;\n",
       "    }\n",
       "\n",
       "    .dataframe thead th {\n",
       "        text-align: right;\n",
       "    }\n",
       "</style>\n",
       "<table border=\"1\" class=\"dataframe\">\n",
       "  <thead>\n",
       "    <tr style=\"text-align: right;\">\n",
       "      <th></th>\n",
       "      <th>Title</th>\n",
       "      <th>Release year</th>\n",
       "      <th>Genre</th>\n",
       "      <th>Duration</th>\n",
       "      <th>Country</th>\n",
       "      <th>Director</th>\n",
       "      <th>Income</th>\n",
       "      <th>Votes</th>\n",
       "      <th>Score</th>\n",
       "    </tr>\n",
       "  </thead>\n",
       "  <tbody>\n",
       "    <tr>\n",
       "      <th>14</th>\n",
       "      <td>The Matrix</td>\n",
       "      <td>1999-05-07</td>\n",
       "      <td>Action, Sci-Fi</td>\n",
       "      <td>136</td>\n",
       "      <td>USA</td>\n",
       "      <td>Lana Wachowski, Lilly Wachowski</td>\n",
       "      <td>465718588</td>\n",
       "      <td>1632315</td>\n",
       "      <td>87</td>\n",
       "    </tr>\n",
       "    <tr>\n",
       "      <th>88</th>\n",
       "      <td>2001: A Space Odyssey</td>\n",
       "      <td>1968-12-12</td>\n",
       "      <td>Adventure, Sci-Fi</td>\n",
       "      <td>149</td>\n",
       "      <td>UK</td>\n",
       "      <td>Stanley Kubrick</td>\n",
       "      <td>68989547</td>\n",
       "      <td>587866</td>\n",
       "      <td>76</td>\n",
       "    </tr>\n",
       "    <tr>\n",
       "      <th>46</th>\n",
       "      <td>C'era una volta il West</td>\n",
       "      <td>1968-12-21</td>\n",
       "      <td>Western</td>\n",
       "      <td>165</td>\n",
       "      <td>Italy</td>\n",
       "      <td>Sergio Leone</td>\n",
       "      <td>112911</td>\n",
       "      <td>295220</td>\n",
       "      <td>83</td>\n",
       "    </tr>\n",
       "    <tr>\n",
       "      <th>5</th>\n",
       "      <td>The Lord of the Rings: The Return of the King</td>\n",
       "      <td>2004-02-22</td>\n",
       "      <td>Action, Adventure, Drama</td>\n",
       "      <td>201</td>\n",
       "      <td>New Zealand</td>\n",
       "      <td>Peter Jackson</td>\n",
       "      <td>1142271098</td>\n",
       "      <td>1604280</td>\n",
       "      <td>89</td>\n",
       "    </tr>\n",
       "    <tr>\n",
       "      <th>25</th>\n",
       "      <td>Cidade de Deus</td>\n",
       "      <td>2003-05-09</td>\n",
       "      <td>Crime, Drama</td>\n",
       "      <td>130</td>\n",
       "      <td>Brazil</td>\n",
       "      <td>Fernando Meirelles, Kátia Lund</td>\n",
       "      <td>30680793</td>\n",
       "      <td>685856</td>\n",
       "      <td>86</td>\n",
       "    </tr>\n",
       "    <tr>\n",
       "      <th>10</th>\n",
       "      <td>Forrest Gump</td>\n",
       "      <td>1994-10-06</td>\n",
       "      <td>Drama, Romance</td>\n",
       "      <td>142</td>\n",
       "      <td>USA</td>\n",
       "      <td>Robert Zemeckis</td>\n",
       "      <td>678229452</td>\n",
       "      <td>1755490</td>\n",
       "      <td>88</td>\n",
       "    </tr>\n",
       "    <tr>\n",
       "      <th>61</th>\n",
       "      <td>Dr. Strangelove or: How I Learned to Stop Worr...</td>\n",
       "      <td>1964-04-03</td>\n",
       "      <td>Comedy</td>\n",
       "      <td>95</td>\n",
       "      <td>UK</td>\n",
       "      <td>Stanley Kubrick</td>\n",
       "      <td>9443876</td>\n",
       "      <td>441115</td>\n",
       "      <td>81</td>\n",
       "    </tr>\n",
       "    <tr>\n",
       "      <th>28</th>\n",
       "      <td>Gisaengchung</td>\n",
       "      <td>2019-11-07</td>\n",
       "      <td>Comedy, Drama, Thriller</td>\n",
       "      <td>132</td>\n",
       "      <td>South Korea</td>\n",
       "      <td>Bong Joon Ho</td>\n",
       "      <td>257604912</td>\n",
       "      <td>470931</td>\n",
       "      <td>86</td>\n",
       "    </tr>\n",
       "    <tr>\n",
       "      <th>68</th>\n",
       "      <td>Once Upon a Time in America</td>\n",
       "      <td>1984-09-28</td>\n",
       "      <td>Crime, Drama</td>\n",
       "      <td>229</td>\n",
       "      <td>USA</td>\n",
       "      <td>Sergio Leone</td>\n",
       "      <td>5472914</td>\n",
       "      <td>302317</td>\n",
       "      <td>80</td>\n",
       "    </tr>\n",
       "    <tr>\n",
       "      <th>72</th>\n",
       "      <td>American Beauty</td>\n",
       "      <td>2000-01-21</td>\n",
       "      <td>Drama</td>\n",
       "      <td>122</td>\n",
       "      <td>USA</td>\n",
       "      <td>Sam Mendes</td>\n",
       "      <td>356296601</td>\n",
       "      <td>1049009</td>\n",
       "      <td>80</td>\n",
       "    </tr>\n",
       "  </tbody>\n",
       "</table>\n",
       "</div>"
      ],
      "text/plain": [
       "                                                Title Release year  \\\n",
       "14                                         The Matrix   1999-05-07   \n",
       "88                              2001: A Space Odyssey   1968-12-12   \n",
       "46                            C'era una volta il West   1968-12-21   \n",
       "5       The Lord of the Rings: The Return of the King   2004-02-22   \n",
       "25                                     Cidade de Deus   2003-05-09   \n",
       "10                                       Forrest Gump   1994-10-06   \n",
       "61  Dr. Strangelove or: How I Learned to Stop Worr...   1964-04-03   \n",
       "28                                       Gisaengchung   2019-11-07   \n",
       "68                        Once Upon a Time in America   1984-09-28   \n",
       "72                                    American Beauty   2000-01-21   \n",
       "\n",
       "                       Genre  Duration      Country  \\\n",
       "14            Action, Sci-Fi       136          USA   \n",
       "88         Adventure, Sci-Fi       149           UK   \n",
       "46                   Western       165        Italy   \n",
       "5   Action, Adventure, Drama       201  New Zealand   \n",
       "25              Crime, Drama       130       Brazil   \n",
       "10            Drama, Romance       142          USA   \n",
       "61                    Comedy        95           UK   \n",
       "28   Comedy, Drama, Thriller       132  South Korea   \n",
       "68              Crime, Drama       229          USA   \n",
       "72                     Drama       122          USA   \n",
       "\n",
       "                           Director      Income    Votes  Score  \n",
       "14  Lana Wachowski, Lilly Wachowski   465718588  1632315     87  \n",
       "88                  Stanley Kubrick    68989547   587866     76  \n",
       "46                     Sergio Leone      112911   295220     83  \n",
       "5                     Peter Jackson  1142271098  1604280     89  \n",
       "25   Fernando Meirelles, Kátia Lund    30680793   685856     86  \n",
       "10                  Robert Zemeckis   678229452  1755490     88  \n",
       "61                  Stanley Kubrick     9443876   441115     81  \n",
       "28                     Bong Joon Ho   257604912   470931     86  \n",
       "68                     Sergio Leone     5472914   302317     80  \n",
       "72                       Sam Mendes   356296601  1049009     80  "
      ]
     },
     "execution_count": 60,
     "metadata": {},
     "output_type": "execute_result"
    }
   ],
   "source": [
    "df_final = df_v2\n",
    "df_final.sample(10)"
   ]
  },
  {
   "cell_type": "code",
   "execution_count": 61,
   "metadata": {},
   "outputs": [],
   "source": [
    "#One last correction\n",
    "df_final.at[36, 'Title'] = 'Léon'\n",
    "df_final.loc[85, 'Title'] = \"Le fabuleux destin d'Amélie Poulain\"\n",
    "df_final.loc[98, 'Title'] = 'Per qualche dollaro in più'"
   ]
  },
  {
   "cell_type": "code",
   "execution_count": 62,
   "metadata": {},
   "outputs": [],
   "source": [
    "df_final.to_csv(r'imdb_clean.csv')"
   ]
  },
  {
   "cell_type": "markdown",
   "metadata": {},
   "source": [
    "Thank you very much for going through my notebook!"
   ]
  }
 ],
 "metadata": {
  "kernelspec": {
   "display_name": "Python 3.9.10 64-bit",
   "language": "python",
   "name": "python3"
  },
  "language_info": {
   "codemirror_mode": {
    "name": "ipython",
    "version": 3
   },
   "file_extension": ".py",
   "mimetype": "text/x-python",
   "name": "python",
   "nbconvert_exporter": "python",
   "pygments_lexer": "ipython3",
   "version": "3.9.10"
  },
  "orig_nbformat": 4,
  "vscode": {
   "interpreter": {
    "hash": "153b441b79b186a170e66d39f3ac68da9dc112e187bf195c7a204943ec397faa"
   }
  }
 },
 "nbformat": 4,
 "nbformat_minor": 2
}
